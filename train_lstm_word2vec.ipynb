{
  "nbformat": 4,
  "nbformat_minor": 0,
  "metadata": {
    "interpreter": {
      "hash": "7812ea015bdcee6f23a998adcdd2ef97c151c0c241b7b7070987d9313e41299d"
    },
    "kernelspec": {
      "display_name": "Python 3.9.1 64-bit",
      "language": "python",
      "name": "python3"
    },
    "language_info": {
      "codemirror_mode": {
        "name": "ipython",
        "version": 3
      },
      "file_extension": ".py",
      "mimetype": "text/x-python",
      "name": "python",
      "nbconvert_exporter": "python",
      "pygments_lexer": "ipython3",
      "version": "3.9.1"
    },
    "orig_nbformat": 4,
    "colab": {
      "name": "Copy of train_lstm_word2vec.ipynb",
      "provenance": [],
      "include_colab_link": true
    },
    "accelerator": "GPU"
  },
  "cells": [
    {
      "cell_type": "markdown",
      "metadata": {
        "id": "view-in-github",
        "colab_type": "text"
      },
      "source": [
        "<a href=\"https://colab.research.google.com/github/carrotbeetrice/cds-project/blob/main/train_lstm_word2vec.ipynb\" target=\"_parent\"><img src=\"https://colab.research.google.com/assets/colab-badge.svg\" alt=\"Open In Colab\"/></a>"
      ]
    },
    {
      "cell_type": "code",
      "metadata": {
        "id": "pIcApWFKiT1F"
      },
      "source": [
        "import pandas as pd\n",
        "import seaborn as sns"
      ],
      "execution_count": 111,
      "outputs": []
    },
    {
      "cell_type": "code",
      "metadata": {
        "colab": {
          "base_uri": "https://localhost:8080/"
        },
        "id": "rkH-q_-BjMJ5",
        "outputId": "9806b3f3-13de-40ca-e586-1c0f38f23b1c"
      },
      "source": [
        "if 'google.colab' in str(get_ipython()):\n",
        "  from google.colab import drive\n",
        "  drive.mount('/content/gdrive', force_remount=True)\n",
        "  data_path = 'gdrive/MyDrive/cds-project/data/emotions-nlp/'\n",
        "else:\n",
        "  data_path = '../data/emotions-nlp/'"
      ],
      "execution_count": 62,
      "outputs": [
        {
          "output_type": "stream",
          "name": "stdout",
          "text": [
            "Mounted at /content/gdrive\n"
          ]
        }
      ]
    },
    {
      "cell_type": "code",
      "metadata": {
        "colab": {
          "base_uri": "https://localhost:8080/",
          "height": 37
        },
        "id": "yBAQLa1Ikmud",
        "outputId": "25a5b88c-ad2b-4d3e-e1cf-b36439441b8d"
      },
      "source": [
        "data_path"
      ],
      "execution_count": 63,
      "outputs": [
        {
          "output_type": "execute_result",
          "data": {
            "application/vnd.google.colaboratory.intrinsic+json": {
              "type": "string"
            },
            "text/plain": [
              "'gdrive/MyDrive/cds-project/data/emotions-nlp/'"
            ]
          },
          "metadata": {},
          "execution_count": 63
        }
      ]
    },
    {
      "cell_type": "code",
      "metadata": {
        "id": "c7CsqwWRiT1I"
      },
      "source": [
        "# Import dataset\n",
        "columns = ['Input', 'Sentiment']\n",
        "df_train = pd.read_csv(data_path + 'train.txt', header=None, sep=';', names=columns, encoding='utf-8')\n",
        "df_test = pd.read_csv(data_path + 'test.txt', header=None, sep=';', names=columns, encoding='utf-8')\n",
        "df_val = pd.read_csv(data_path + 'val.txt', header=None, sep=';', names=columns, encoding='utf-8')"
      ],
      "execution_count": 112,
      "outputs": []
    },
    {
      "cell_type": "markdown",
      "metadata": {
        "id": "ioE6JmkciT1J"
      },
      "source": [
        "# Dataset Balancing"
      ]
    },
    {
      "cell_type": "code",
      "metadata": {
        "id": "IreKknJdiT1K"
      },
      "source": [
        "# Check data distribution\n",
        "import matplotlib.pyplot as plt\n",
        "\n",
        "def plot_emotion_counts(df_train, df_test, df_val):\n",
        "    fig, ax = plt.subplots(1, 3, figsize=(15, 5), sharey=True)\n",
        "\n",
        "    sns.countplot(x=df_train.Sentiment.sort_values(), ax=ax[0])\n",
        "    ax[0].set_title(\"Training dataset\")\n",
        "\n",
        "    sns.countplot(x=df_test.Sentiment.sort_values(), ax=ax[1])\n",
        "    ax[1].set_title(\"Test dataset\")\n",
        "\n",
        "    sns.countplot(x=df_val.Sentiment.sort_values(), ax=ax[2])\n",
        "    ax[2].set_title(\"Validation dataset\")\n",
        "\n",
        "    plt.show()"
      ],
      "execution_count": 65,
      "outputs": []
    },
    {
      "cell_type": "code",
      "metadata": {
        "id": "GlQYHyn8iT1L",
        "colab": {
          "base_uri": "https://localhost:8080/",
          "height": 350
        },
        "outputId": "90be56e7-f49c-4596-e1d6-00604409ac32"
      },
      "source": [
        "plot_emotion_counts(df_train, df_test, df_val)"
      ],
      "execution_count": 113,
      "outputs": [
        {
          "output_type": "display_data",
          "data": {
            "image/png": "[encoded data removed]",
            "text/plain": [
              "<Figure size 1080x360 with 3 Axes>"
            ]
          },
          "metadata": {
            "needs_background": "light"
          }
        }
      ]
    },
    {
      "cell_type": "markdown",
      "metadata": {
        "id": "tc_1tyq5iT1O"
      },
      "source": [
        "# Text Cleaning"
      ]
    },
    {
      "cell_type": "code",
      "metadata": {
        "id": "dUitL2Q1iT1P",
        "colab": {
          "base_uri": "https://localhost:8080/"
        },
        "outputId": "f188e538-3e7e-4502-bc88-4f426dbe21e7"
      },
      "source": [
        "import re, nltk, string\n",
        "\n",
        "nltk.download('stopwords')\n",
        "\n",
        "stopwords = nltk.corpus.stopwords.words('english')\n",
        "ps = nltk.PorterStemmer()\n",
        "\n",
        "def remove_stopwords(text):\n",
        "    text = text.split(' ')\n",
        "    return \" \".join([word for word in text if word not in stopwords])\n",
        "\n",
        "def stem(text):\n",
        "    text = text.split(' ')\n",
        "    return \" \".join([ps.stem(word) for word in text])\n",
        "\n",
        "def text_cleaning(df, column):\n",
        "    df[column] = df[column].apply(lambda x: str(x).lower()) # Convert to lowercase\n",
        "    df[column] = df[column].apply(lambda x: re.sub('\\s+', ' ', x)) # Remove extra spaces\n",
        "    df[column] = df[column].apply(lambda x: re.sub(\"[^-9A-Za-z ]\", \" \", x)) # Remove punctuation\n",
        "    df[column] = df[column].apply(remove_stopwords)\n",
        "    return df"
      ],
      "execution_count": 116,
      "outputs": [
        {
          "output_type": "stream",
          "name": "stdout",
          "text": [
            "[nltk_data] Downloading package stopwords to /root/nltk_data...\n",
            "[nltk_data]   Package stopwords is already up-to-date!\n"
          ]
        }
      ]
    },
    {
      "cell_type": "code",
      "metadata": {
        "id": "8eXUtG3EiT1Q",
        "colab": {
          "base_uri": "https://localhost:8080/",
          "height": 359
        },
        "outputId": "019ca14f-7604-4dae-9010-86a8f2af336c"
      },
      "source": [
        "text_cleaning(df_train, 'Input') # Need to upsample original training set to build vocab\n",
        "text_cleaning(df_test, 'Input')\n",
        "text_cleaning(df_val, 'Input')\n",
        "df_train.head(10)"
      ],
      "execution_count": 117,
      "outputs": [
        {
          "output_type": "execute_result",
          "data": {
            "text/html": [
              "<div>\n",
              "<style scoped>\n",
              "    .dataframe tbody tr th:only-of-type {\n",
              "        vertical-align: middle;\n",
              "    }\n",
              "\n",
              "    .dataframe tbody tr th {\n",
              "        vertical-align: top;\n",
              "    }\n",
              "\n",
              "    .dataframe thead th {\n",
              "        text-align: right;\n",
              "    }\n",
              "</style>\n",
              "<table border=\"1\" class=\"dataframe\">\n",
              "  <thead>\n",
              "    <tr style=\"text-align: right;\">\n",
              "      <th></th>\n",
              "      <th>Input</th>\n",
              "      <th>Sentiment</th>\n",
              "    </tr>\n",
              "  </thead>\n",
              "  <tbody>\n",
              "    <tr>\n",
              "      <th>0</th>\n",
              "      <td>didnt feel humiliated</td>\n",
              "      <td>sadness</td>\n",
              "    </tr>\n",
              "    <tr>\n",
              "      <th>1</th>\n",
              "      <td>go feeling hopeless damned hopeful around some...</td>\n",
              "      <td>sadness</td>\n",
              "    </tr>\n",
              "    <tr>\n",
              "      <th>2</th>\n",
              "      <td>im grabbing minute post feel greedy wrong</td>\n",
              "      <td>anger</td>\n",
              "    </tr>\n",
              "    <tr>\n",
              "      <th>3</th>\n",
              "      <td>ever feeling nostalgic fireplace know still pr...</td>\n",
              "      <td>love</td>\n",
              "    </tr>\n",
              "    <tr>\n",
              "      <th>4</th>\n",
              "      <td>feeling grouchy</td>\n",
              "      <td>anger</td>\n",
              "    </tr>\n",
              "    <tr>\n",
              "      <th>5</th>\n",
              "      <td>ive feeling little burdened lately wasnt sure</td>\n",
              "      <td>sadness</td>\n",
              "    </tr>\n",
              "    <tr>\n",
              "      <th>6</th>\n",
              "      <td>ive taking milligrams times recommended amount...</td>\n",
              "      <td>surprise</td>\n",
              "    </tr>\n",
              "    <tr>\n",
              "      <th>7</th>\n",
              "      <td>feel confused life teenager jaded year old man</td>\n",
              "      <td>fear</td>\n",
              "    </tr>\n",
              "    <tr>\n",
              "      <th>8</th>\n",
              "      <td>petronas years feel petronas performed well ma...</td>\n",
              "      <td>joy</td>\n",
              "    </tr>\n",
              "    <tr>\n",
              "      <th>9</th>\n",
              "      <td>feel romantic</td>\n",
              "      <td>love</td>\n",
              "    </tr>\n",
              "  </tbody>\n",
              "</table>\n",
              "</div>"
            ],
            "text/plain": [
              "                                               Input Sentiment\n",
              "0                              didnt feel humiliated   sadness\n",
              "1  go feeling hopeless damned hopeful around some...   sadness\n",
              "2          im grabbing minute post feel greedy wrong     anger\n",
              "3  ever feeling nostalgic fireplace know still pr...      love\n",
              "4                                    feeling grouchy     anger\n",
              "5      ive feeling little burdened lately wasnt sure   sadness\n",
              "6  ive taking milligrams times recommended amount...  surprise\n",
              "7     feel confused life teenager jaded year old man      fear\n",
              "8  petronas years feel petronas performed well ma...       joy\n",
              "9                                      feel romantic      love"
            ]
          },
          "metadata": {},
          "execution_count": 117
        }
      ]
    },
    {
      "cell_type": "markdown",
      "metadata": {
        "id": "kHeCZ20TiT1Q"
      },
      "source": [
        "# Create vocabulary"
      ]
    },
    {
      "cell_type": "code",
      "metadata": {
        "id": "RKQwMAqIiT1R"
      },
      "source": [
        "from torchtext.data.utils import get_tokenizer\n",
        "from collections import Counter, OrderedDict\n",
        "from torchtext.vocab import vocab"
      ],
      "execution_count": 118,
      "outputs": []
    },
    {
      "cell_type": "code",
      "metadata": {
        "id": "h-dVqET8iT1R"
      },
      "source": [
        "EMBEDDING_DIM=50\n",
        "VOCAB_SIZE=20000\n",
        "\n",
        "# Load tokenizer\n",
        "tokenizer = get_tokenizer('spacy', language='en')\n",
        "\n",
        "# Get all text\n",
        "all_text = pd.concat([df_train.Input, df_test.Input, df_val.Input])\n",
        "\n",
        "# Build vocab\n",
        "counter = Counter()\n",
        "for input in all_text:\n",
        "    counter.update(tokenizer(input))\n",
        "\n",
        "ordered_dict = OrderedDict(counter.most_common()[:VOCAB_SIZE])\n",
        "vocab = vocab(ordered_dict)\n",
        "\n",
        "# insert special tokens and set default index to 'unknown'\n",
        "vocab.insert_token('<PAD>', 0)\n",
        "vocab.insert_token('<UNK>', 1)\n",
        "vocab.set_default_index(1)"
      ],
      "execution_count": 119,
      "outputs": []
    },
    {
      "cell_type": "markdown",
      "metadata": {
        "id": "sA2fPxt3iT1S"
      },
      "source": [
        "# Build up train/test/val dataset"
      ]
    },
    {
      "cell_type": "code",
      "metadata": {
        "id": "DbkxC_ZQiT1S",
        "colab": {
          "base_uri": "https://localhost:8080/"
        },
        "outputId": "9292ccb7-a5ff-4cff-ddae-670a3214b60a"
      },
      "source": [
        "# Label encoding\n",
        "emotion_labels = df_train.Sentiment.unique()\n",
        "label_to_ids = {}\n",
        "for id in range(len(emotion_labels)):\n",
        "    label = emotion_labels[id]\n",
        "    label_to_ids[label] = id\n",
        "label_to_ids"
      ],
      "execution_count": 73,
      "outputs": [
        {
          "output_type": "execute_result",
          "data": {
            "text/plain": [
              "{'anger': 1, 'fear': 3, 'joy': 4, 'love': 2, 'sadness': 0, 'surprise': 5}"
            ]
          },
          "metadata": {},
          "execution_count": 73
        }
      ]
    },
    {
      "cell_type": "code",
      "metadata": {
        "id": "sKq0XcPviT1T"
      },
      "source": [
        "from torch.nn.utils.rnn import pad_sequence\n",
        "import torch\n",
        "from torch.utils.data import DataLoader, Dataset\n",
        "from torchtext.data.functional import to_map_style_dataset\n",
        "\n",
        "device = torch.device(\"cuda\" if torch.cuda.is_available() else \"cpu\")\n",
        "\n",
        "def process_text(text):\n",
        "    return vocab(tokenizer(text))\n",
        "\n",
        "def collate_batch(batch):\n",
        "    label_list, text_list, lengths = [], [], []\n",
        "    for (_text, _label) in batch:\n",
        "        label_list.append(label_to_ids[_label])\n",
        "        processed_text = torch.tensor(process_text(_text), dtype=torch.int64)\n",
        "        text_list.append(processed_text)\n",
        "        lengths.append(processed_text.size(0) - 1)\n",
        "\n",
        "    # label must be in the same size as target\n",
        "    label_list = torch.tensor(label_list, dtype=torch.float)[:,None]\n",
        "\n",
        "    # Ensure all text is the same length\n",
        "    text_list = pad_sequence(text_list, batch_first=True)\n",
        "\n",
        "    # Create mask\n",
        "    lengths = torch.tensor(lengths)\n",
        "    lengths = torch.LongTensor(lengths)\n",
        "\n",
        "    seq_len = len(text_list[0])\n",
        "    batch_size = len(batch)\n",
        "    mask = torch.zeros(batch_size, seq_len, 1)\n",
        "\n",
        "    rows = torch.arange(0, batch_size).long()\n",
        "    mask[rows, lengths, :] = 1\n",
        "\n",
        "    return label_list, text_list, mask\n"
      ],
      "execution_count": 120,
      "outputs": []
    },
    {
      "cell_type": "code",
      "metadata": {
        "id": "PSL8iQL3iT1U"
      },
      "source": [
        "class EmotionDataset(Dataset):\n",
        "    def __init__(self, dataframe) -> None:\n",
        "        self.dataframe = dataframe\n",
        "\n",
        "    def __len__(self) -> int:\n",
        "        return len(self.dataframe)\n",
        "\n",
        "    def __getitem__(self, index):\n",
        "        row = self.dataframe.iloc[index]\n",
        "        return row"
      ],
      "execution_count": 75,
      "outputs": []
    },
    {
      "cell_type": "code",
      "metadata": {
        "id": "5fJ1HvMSiT1U"
      },
      "source": [
        "train_dataset = EmotionDataset(df_train)\n",
        "test_dataset = EmotionDataset(df_test)\n",
        "val_dataset = EmotionDataset(df_val)\n",
        "\n",
        "train_dataloader = DataLoader(train_dataset, batch_size=128, shuffle=True, collate_fn=collate_batch)\n",
        "test_dataloader = DataLoader(test_dataset, batch_size=128, shuffle=True, collate_fn=collate_batch)\n",
        "val_dataloader = DataLoader(val_dataset, batch_size=128, shuffle=True, collate_fn=collate_batch)"
      ],
      "execution_count": 97,
      "outputs": []
    },
    {
      "cell_type": "markdown",
      "metadata": {
        "id": "SAb_lkN4iT1V"
      },
      "source": [
        "# Create embedding vectors from GloVe"
      ]
    },
    {
      "cell_type": "code",
      "metadata": {
        "id": "ff6QnLRWiT1V"
      },
      "source": [
        "import torchtext as text\n",
        "\n",
        "# load glove embeddings\n",
        "vec = text.vocab.GloVe(name='6B', dim=50)\n",
        "\n",
        "# create the embedding matrix, a torch tensor in the shape (num_words+1, embedding_dim)\n",
        "word_emb = vec.get_vecs_by_tokens(vocab.get_itos())"
      ],
      "execution_count": 77,
      "outputs": []
    },
    {
      "cell_type": "markdown",
      "metadata": {
        "id": "BxFOOb2AiT1V"
      },
      "source": [
        "# Define NN"
      ]
    },
    {
      "cell_type": "code",
      "metadata": {
        "id": "cAFOTetIiT1V"
      },
      "source": [
        "import torch\n",
        "import torch.nn as nn\n",
        "import torch.nn.functional as F\n",
        "from torch.nn.utils.rnn import pack_padded_sequence, pad_packed_sequence\n",
        "\n",
        "class BiLSTM(nn.Module):\n",
        "    def __init__(self, word_vec, embed_dim, num_classes, n_layers = 3, \n",
        "                 hidden_dim1 = 200, hidden_dim2 = 100, dropout = 0.1) -> None:\n",
        "        super().__init__()\n",
        "\n",
        "        # Embedding Layer\n",
        "        self.embedding = nn.Embedding(*(word_vec.size())).from_pretrained(word_vec, freeze=False)\n",
        "        self.embedding.weight = nn.Parameter(torch.tensor(word_vec, dtype=torch.float32))\n",
        "        self.embedding.weight.requires_grad = False\n",
        "\n",
        "        # LSTM Layer\n",
        "        self.lstm = nn.LSTM(embed_dim, hidden_dim1, num_layers=n_layers, \n",
        "                            bidirectional=True, batch_first=True)\n",
        "        self.fc1 = nn.Linear(hidden_dim1 * 2, hidden_dim2)\n",
        "        self.fc2 = nn.Linear(hidden_dim2, 1)\n",
        "        self.relu = nn.ReLU()\n",
        "        self.dropout = nn.Dropout(dropout)\n",
        "\n",
        "    def forward(self, text, lengths):\n",
        "        embedded = self.embedding(text) # (batch_size, seq_len, emb_size)\n",
        "        lstm_out, _ = self.lstm(embedded) # (batch_size, seq_len, output_size)\n",
        "        batch_size, seq_len, output_size = lstm_out.size()\n",
        "        mask = lengths.expand(-1, seq_len, output_size)\n",
        "        out = lstm_out * mask\n",
        "        out = self.fc1(out)\n",
        "        out = self.relu(out)\n",
        "        out = torch.sum(out, dim=1)\n",
        "        out = self.dropout(out)\n",
        "        out = self.fc2(out)\n",
        "\n",
        "        return F.softmax(out, dim=1)"
      ],
      "execution_count": 102,
      "outputs": []
    },
    {
      "cell_type": "markdown",
      "metadata": {
        "id": "cuczRTBmiT1W"
      },
      "source": [
        "# Model training"
      ]
    },
    {
      "cell_type": "code",
      "metadata": {
        "id": "iWdcpX0uiT1W"
      },
      "source": [
        "import numpy as np\n",
        "from tqdm import tqdm\n",
        "import time\n",
        "\n",
        "def train(model, trainloader, criterion, optimizer):\n",
        "    model.train()\n",
        "    total_acc, total_count = 0, 0\n",
        "    log_interval = 100\n",
        "    start_time = time.time()\n",
        "\n",
        "    for idx, (label, text, lengths) in enumerate(trainloader):\n",
        "      optimizer.zero_grad()\n",
        "      predicted_label = model(text, lengths)\n",
        "      loss = criterion(predicted_label, label)\n",
        "      loss.backward()\n",
        "      torch.nn.utils.clip_grad_norm_(model.parameters(), 0.1)\n",
        "      optimizer.step()\n",
        "      \n",
        "      total_acc += torch.eq(predicted_label, label).sum().item()\n",
        "      total_count += label.size(0)\n",
        "\n",
        "      if idx % log_interval == 0 and idx > 0:\n",
        "          elapsed = time.time() - start_time\n",
        "          log_acc = 100 * total_acc / total_count\n",
        "          print('| epoch {:3d} | {:5d}/{:5d} batches '\n",
        "            '| accuracy {:8.3f}'.format(epoch, idx, len(trainloader), log_acc))\n",
        "          total_acc, total_count = 0, 0\n",
        "          start_time = time.time()\n",
        "        \n",
        "\n",
        "def evaluate(model, dataloader, criterion):\n",
        "    model.eval()\n",
        "    total_acc, total_count = 0, 0\n",
        "\n",
        "    with torch.no_grad():\n",
        "        for idx, (label, text, lengths) in enumerate(dataloader):\n",
        "            predicted_label = model(text, lengths)\n",
        "            loss = criterion(predicted_label, label)\n",
        "            total_acc += torch.eq(predicted_label, label).sum().item()\n",
        "            total_count += label.size(0)\n",
        "            \n",
        "    return 100 * total_acc/total_count"
      ],
      "execution_count": 106,
      "outputs": []
    },
    {
      "cell_type": "code",
      "metadata": {
        "id": "AR2cKAXUiT1X",
        "colab": {
          "base_uri": "https://localhost:8080/"
        },
        "outputId": "2adf60ce-d5b3-4178-9dac-dd70b41bd7f3"
      },
      "source": [
        "EPOCHS = 30\n",
        "N = 10\n",
        "acc = 0\n",
        "epoch_counter = 0\n",
        "\n",
        "model = BiLSTM(word_vec=word_emb, embed_dim=EMBEDDING_DIM, num_classes=len(label_to_ids))\n",
        "optimizer = torch.optim.SGD(model.parameters(), lr=0.001)\n",
        "criterion = torch.nn.BCELoss()\n",
        "\n",
        "for epoch in range(1, EPOCHS + 1):\n",
        "  epoch_start_time = time.time()\n",
        "  train(model, train_dataloader, criterion, optimizer)\n",
        "\n",
        "  val_acc = evaluate(model, val_dataloader, criterion)\n",
        "  if (acc >= val_acc):\n",
        "    epoch_counter += 1\n",
        "    if (epoch_counter == N):\n",
        "      print(\"Validation set accuracy = \" + str(val_acc) + \"%\")\n",
        "      break\n",
        "  else:\n",
        "    acc = val_acc\n",
        "    epoch_counter = 0"
      ],
      "execution_count": 109,
      "outputs": [
        {
          "output_type": "stream",
          "name": "stderr",
          "text": [
            "/usr/local/lib/python3.7/dist-packages/ipykernel_launcher.py:13: UserWarning: To copy construct from a tensor, it is recommended to use sourceTensor.clone().detach() or sourceTensor.clone().detach().requires_grad_(True), rather than torch.tensor(sourceTensor).\n",
            "  del sys.path[0]\n"
          ]
        },
        {
          "output_type": "stream",
          "name": "stdout",
          "text": [
            "| epoch   1 |   100/  125 batches | accuracy   13.436\n",
            "| epoch   2 |   100/  125 batches | accuracy   13.598\n",
            "| epoch   3 |   100/  125 batches | accuracy   13.274\n",
            "| epoch   4 |   100/  125 batches | accuracy   13.343\n",
            "| epoch   5 |   100/  125 batches | accuracy   13.459\n",
            "| epoch   6 |   100/  125 batches | accuracy   13.738\n",
            "| epoch   7 |   100/  125 batches | accuracy   13.506\n",
            "| epoch   8 |   100/  125 batches | accuracy   13.598\n",
            "| epoch   9 |   100/  125 batches | accuracy   13.738\n",
            "| epoch  10 |   100/  125 batches | accuracy   13.459\n",
            "| epoch  11 |   100/  125 batches | accuracy   13.482\n",
            "Validation set accuracy = 13.75%\n"
          ]
        }
      ]
    },
    {
      "cell_type": "code",
      "metadata": {
        "id": "6jCelB0HiT1X",
        "colab": {
          "base_uri": "https://localhost:8080/"
        },
        "outputId": "c0793c70-6543-48b7-bd59-7ed2a721755e"
      },
      "source": [
        "accu_test = evaluate(model, test_dataloader, criterion)\n",
        "print('test accuracy {:8.2f}%'.format(accu_test))"
      ],
      "execution_count": 110,
      "outputs": [
        {
          "output_type": "stream",
          "name": "stdout",
          "text": [
            "test accuracy    13.75%\n"
          ]
        }
      ]
    },
    {
      "cell_type": "code",
      "metadata": {
        "id": "qmhhDVmL2OjI"
      },
      "source": [
        ""
      ],
      "execution_count": 110,
      "outputs": []
    }
  ]
}