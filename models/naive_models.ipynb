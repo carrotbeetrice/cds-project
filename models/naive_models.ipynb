{
  "nbformat": 4,
  "nbformat_minor": 0,
  "metadata": {
    "colab": {
      "name": "naive_models.ipynb",
      "provenance": []
    },
    "kernelspec": {
      "name": "python3",
      "display_name": "Python 3"
    },
    "language_info": {
      "name": "python"
    }
  },
  "cells": [
    {
      "cell_type": "code",
      "metadata": {
        "colab": {
          "base_uri": "https://localhost:8080/"
        },
        "id": "WPOFL7aEPaqL",
        "outputId": "6631aa44-bade-46d6-a49a-2d1b40c7651e"
      },
      "source": [
        "if 'google.colab' in str(get_ipython()):\n",
        "  from google.colab import drive\n",
        "  drive.mount('/content/gdrive', force_remount=True)\n",
        "  data_path = 'gdrive/MyDrive/cds-project/data/emotions-nlp/' # Replace with path to datasets in your g drive\n",
        "  glove_path = 'gdrive/MyDrive/cds-project/glove.6B.100d.txt'\n",
        "else:\n",
        "  data_path = '../data/emotions-nlp/' # Replace with path to datasets on local machine\n",
        "  glove_path = '../glove_model/glove.6B.100d.txt'\n",
        "print(\"Reading dataset from path \" + data_path)"
      ],
      "execution_count": 68,
      "outputs": [
        {
          "output_type": "stream",
          "name": "stdout",
          "text": [
            "Mounted at /content/gdrive\n",
            "Reading dataset from path gdrive/MyDrive/cds-project/data/emotions-nlp/\n"
          ]
        }
      ]
    },
    {
      "cell_type": "code",
      "metadata": {
        "id": "AGtf7BfXPqtq"
      },
      "source": [
        "import numpy as np\n",
        "import matplotlib.pyplot as plt\n",
        "import seaborn as sns"
      ],
      "execution_count": 69,
      "outputs": []
    },
    {
      "cell_type": "code",
      "metadata": {
        "colab": {
          "base_uri": "https://localhost:8080/",
          "height": 359
        },
        "id": "QWZk1QS2P8Sy",
        "outputId": "33728d76-a2ed-4f0d-d2f9-b73daa7b95e4"
      },
      "source": [
        "import pandas as pd\n",
        "\n",
        "# Get data\n",
        "df_train = pd.read_csv(data_path + 'processed_train.csv')\n",
        "df_test = pd.read_csv(data_path + 'processed_test.csv')\n",
        "df_val = pd.read_csv(data_path + 'processed_val.csv')\n",
        "\n",
        "df_train.head(10)"
      ],
      "execution_count": 70,
      "outputs": [
        {
          "output_type": "execute_result",
          "data": {
            "text/html": [
              "<div>\n",
              "<style scoped>\n",
              "    .dataframe tbody tr th:only-of-type {\n",
              "        vertical-align: middle;\n",
              "    }\n",
              "\n",
              "    .dataframe tbody tr th {\n",
              "        vertical-align: top;\n",
              "    }\n",
              "\n",
              "    .dataframe thead th {\n",
              "        text-align: right;\n",
              "    }\n",
              "</style>\n",
              "<table border=\"1\" class=\"dataframe\">\n",
              "  <thead>\n",
              "    <tr style=\"text-align: right;\">\n",
              "      <th></th>\n",
              "      <th>text</th>\n",
              "      <th>emotion</th>\n",
              "    </tr>\n",
              "  </thead>\n",
              "  <tbody>\n",
              "    <tr>\n",
              "      <th>0</th>\n",
              "      <td>didnt feel humiliated</td>\n",
              "      <td>sadness</td>\n",
              "    </tr>\n",
              "    <tr>\n",
              "      <th>1</th>\n",
              "      <td>go feeling hopeless damned hopeful around some...</td>\n",
              "      <td>sadness</td>\n",
              "    </tr>\n",
              "    <tr>\n",
              "      <th>2</th>\n",
              "      <td>im grabbing minute post feel greedy wrong</td>\n",
              "      <td>anger</td>\n",
              "    </tr>\n",
              "    <tr>\n",
              "      <th>3</th>\n",
              "      <td>ever feeling nostalgic fireplace know still pr...</td>\n",
              "      <td>love</td>\n",
              "    </tr>\n",
              "    <tr>\n",
              "      <th>4</th>\n",
              "      <td>feeling grouchy</td>\n",
              "      <td>anger</td>\n",
              "    </tr>\n",
              "    <tr>\n",
              "      <th>5</th>\n",
              "      <td>ive feeling little burdened lately wasnt sure</td>\n",
              "      <td>sadness</td>\n",
              "    </tr>\n",
              "    <tr>\n",
              "      <th>6</th>\n",
              "      <td>ive taking milligrams times recommended amount...</td>\n",
              "      <td>surprise</td>\n",
              "    </tr>\n",
              "    <tr>\n",
              "      <th>7</th>\n",
              "      <td>feel confused life teenager jaded year old man</td>\n",
              "      <td>fear</td>\n",
              "    </tr>\n",
              "    <tr>\n",
              "      <th>8</th>\n",
              "      <td>petronas years feel petronas performed well ma...</td>\n",
              "      <td>joy</td>\n",
              "    </tr>\n",
              "    <tr>\n",
              "      <th>9</th>\n",
              "      <td>feel romantic</td>\n",
              "      <td>love</td>\n",
              "    </tr>\n",
              "  </tbody>\n",
              "</table>\n",
              "</div>"
            ],
            "text/plain": [
              "                                                text   emotion\n",
              "0                              didnt feel humiliated   sadness\n",
              "1  go feeling hopeless damned hopeful around some...   sadness\n",
              "2          im grabbing minute post feel greedy wrong     anger\n",
              "3  ever feeling nostalgic fireplace know still pr...      love\n",
              "4                                    feeling grouchy     anger\n",
              "5      ive feeling little burdened lately wasnt sure   sadness\n",
              "6  ive taking milligrams times recommended amount...  surprise\n",
              "7     feel confused life teenager jaded year old man      fear\n",
              "8  petronas years feel petronas performed well ma...       joy\n",
              "9                                      feel romantic      love"
            ]
          },
          "metadata": {},
          "execution_count": 70
        }
      ]
    },
    {
      "cell_type": "code",
      "metadata": {
        "id": "C29d-aLdQcPn"
      },
      "source": [
        "# Get x and y columns\n",
        "X_train = df_train['text']\n",
        "y_train = df_train['emotion']\n",
        "\n",
        "X_test = df_test['text']\n",
        "y_test = df_test['emotion']"
      ],
      "execution_count": 71,
      "outputs": []
    },
    {
      "cell_type": "markdown",
      "metadata": {
        "id": "G8EmCqLnQLo5"
      },
      "source": [
        "# Logistic Regression Model"
      ]
    },
    {
      "cell_type": "code",
      "metadata": {
        "id": "ZxnErXV8Rq6X"
      },
      "source": [
        "from sklearn.pipeline import Pipeline\n",
        "from sklearn.feature_extraction.text import CountVectorizer\n",
        "from sklearn.linear_model import LogisticRegression\n",
        "\n",
        "# Logistic Regression Pipeline\n",
        "lr_pipe = Pipeline(steps=[('cv', CountVectorizer()), ('lr', LogisticRegression(solver='liblinear'))])\n",
        "\n",
        "# Train and fit data\n",
        "lr_pipe.fit(X_train, y_train)\n",
        "lr_y_pred = lr_pipe.predict(X_test)\n",
        "lr_y_pred_probs = lr_pipe.predict_log_proba(X_test)"
      ],
      "execution_count": 72,
      "outputs": []
    },
    {
      "cell_type": "markdown",
      "metadata": {
        "id": "KQ0WrDi_SBtz"
      },
      "source": [
        "# Naive Bayes Model"
      ]
    },
    {
      "cell_type": "code",
      "metadata": {
        "id": "uj3K2244Sa8F"
      },
      "source": [
        "cv = CountVectorizer()\n",
        "\n",
        "X_all = pd.concat([X_train, X_test])\n",
        "X_all_mat = cv.fit_transform(X_all)"
      ],
      "execution_count": 73,
      "outputs": []
    },
    {
      "cell_type": "code",
      "metadata": {
        "id": "UTgWFg3mYkr8"
      },
      "source": [
        "from sklearn.model_selection import train_test_split\n",
        "\n",
        "test_size = X_test.count()\n",
        "\n",
        "X_train_mat, X_test_mat = train_test_split(X_all_mat, test_size=test_size, shuffle=False)"
      ],
      "execution_count": 74,
      "outputs": []
    },
    {
      "cell_type": "code",
      "metadata": {
        "id": "VnjH8L4YSBYW"
      },
      "source": [
        "from sklearn.naive_bayes import MultinomialNB\n",
        "\n",
        "nv_model = MultinomialNB()\n",
        "nv_model.fit(X_train_mat, y_train)\n",
        "\n",
        "nv_y_pred = nv_model.predict(X_test_mat)\n",
        "nv_y_pred_probs = nv_model.predict_log_proba(X_test_mat)"
      ],
      "execution_count": 75,
      "outputs": []
    },
    {
      "cell_type": "markdown",
      "metadata": {
        "id": "rAklq8oxRI9o"
      },
      "source": [
        "# Evaluate models"
      ]
    },
    {
      "cell_type": "code",
      "metadata": {
        "id": "lTiQKJJcQSzm"
      },
      "source": [
        "from sklearn.metrics import confusion_matrix, accuracy_score, classification_report, log_loss\n",
        "\n",
        "def evaluate_model(true, pred, pred_probs, classes):\n",
        "    conf = confusion_matrix(true, pred, labels=classes)\n",
        "    print(\"Confusion Matrix:\")\n",
        "    print(conf)\n",
        "\n",
        "    acc_score = accuracy_score(true, pred)\n",
        "    ce_loss = log_loss(true, pred_probs)\n",
        "    print('\\nAccuracy: {:.3f}'.format(acc_score))\n",
        "    print('Cross entropy loss: {:.3f}'.format(ce_loss))\n",
        "\n",
        "    print('\\nClassification Report\\n')\n",
        "    print(classification_report(true, pred))"
      ],
      "execution_count": 76,
      "outputs": []
    },
    {
      "cell_type": "code",
      "metadata": {
        "colab": {
          "base_uri": "https://localhost:8080/"
        },
        "id": "wkFGM1CFT-wd",
        "outputId": "a9a1ae23-738d-4575-b1ab-271620a8f3bc"
      },
      "source": [
        "# Evaluate Logistic Regression Model\n",
        "classes = list(df_test['emotion'].unique())\n",
        "\n",
        "print(\"Evaluating Logistic Regress Model\\n\")\n",
        "evaluate_model(y_test.values, lr_y_pred, lr_y_pred_probs, classes)"
      ],
      "execution_count": 79,
      "outputs": [
        {
          "output_type": "stream",
          "name": "stdout",
          "text": [
            "Evaluating Logistic Regress Model\n",
            "\n",
            "Confusion Matrix:\n",
            "[[542  14   7  14   2   2]\n",
            " [  5 652   4   4  26   4]\n",
            " [ 15   4 189   9   1   6]\n",
            " [ 17   9   9 238   2   0]\n",
            " [  1  35   0   3 119   1]\n",
            " [  2  12  13   1   0  38]]\n",
            "\n",
            "Accuracy: 0.889\n",
            "Cross entropy loss: 1.792\n",
            "\n",
            "Classification Report\n",
            "\n",
            "              precision    recall  f1-score   support\n",
            "\n",
            "       anger       0.88      0.87      0.88       275\n",
            "        fear       0.85      0.84      0.85       224\n",
            "         joy       0.90      0.94      0.92       695\n",
            "        love       0.79      0.75      0.77       159\n",
            "     sadness       0.93      0.93      0.93       581\n",
            "    surprise       0.75      0.58      0.65        66\n",
            "\n",
            "    accuracy                           0.89      2000\n",
            "   macro avg       0.85      0.82      0.83      2000\n",
            "weighted avg       0.89      0.89      0.89      2000\n",
            "\n"
          ]
        }
      ]
    },
    {
      "cell_type": "code",
      "metadata": {
        "colab": {
          "base_uri": "https://localhost:8080/"
        },
        "id": "vJQhcjo5Zox4",
        "outputId": "a406f782-770e-4d95-9503-e8441402ae8a"
      },
      "source": [
        "# Evaluate Naive Bayes Model\n",
        "print(\"Evaluating Naive Bayes Model\\n\")\n",
        "evaluate_model(y_test.values, nv_y_pred, nv_y_pred_probs, classes)"
      ],
      "execution_count": 80,
      "outputs": [
        {
          "output_type": "stream",
          "name": "stdout",
          "text": [
            "Evaluating Naive Bayes Model\n",
            "\n",
            "Confusion Matrix:\n",
            "[[539  31   3   6   1   1]\n",
            " [ 16 664   5   1   8   1]\n",
            " [ 45  28 144   7   0   0]\n",
            " [ 55  30   7 182   0   1]\n",
            " [ 25  73   1   4  56   0]\n",
            " [ 15  29  14   1   0   7]]\n",
            "\n",
            "Accuracy: 0.796\n",
            "Cross entropy loss: 1.792\n",
            "\n",
            "Classification Report\n",
            "\n",
            "              precision    recall  f1-score   support\n",
            "\n",
            "       anger       0.91      0.66      0.76       275\n",
            "        fear       0.83      0.64      0.72       224\n",
            "         joy       0.78      0.96      0.86       695\n",
            "        love       0.86      0.35      0.50       159\n",
            "     sadness       0.78      0.93      0.84       581\n",
            "    surprise       0.70      0.11      0.18        66\n",
            "\n",
            "    accuracy                           0.80      2000\n",
            "   macro avg       0.81      0.61      0.65      2000\n",
            "weighted avg       0.80      0.80      0.78      2000\n",
            "\n"
          ]
        }
      ]
    }
  ]
}