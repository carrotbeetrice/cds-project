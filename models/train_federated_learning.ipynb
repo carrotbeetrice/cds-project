{
 "cells": [
  {
   "cell_type": "code",
   "execution_count": 1,
   "metadata": {},
   "outputs": [],
   "source": [
    "import numpy as np\n",
    "import pandas as pd\n",
    "import matplotlib.pyplot as plt\n",
    "import csv\n",
    "import torch\n",
    "import torch.nn as nn\n",
    "import torch.nn.functional as F\n",
    "from keras.preprocessing.text import Tokenizer\n",
    "from keras_preprocessing.sequence import pad_sequences\n",
    "import torch.optim as optim\n",
    "from torch.utils.data import DataLoader, TensorDataset\n",
    "import numpy as np, pandas as pd, pickle, time, argparse\n",
    "from sklearn.metrics import f1_score, confusion_matrix, accuracy_score, classification_report, precision_recall_fscore_support\n",
    "\n",
    "device = torch.device(\"cuda:0\" if torch.cuda.is_available() else \"cpu\")"
   ]
  },
  {
   "cell_type": "markdown",
   "metadata": {},
   "source": [
    "# Data preprocessing"
   ]
  },
  {
   "cell_type": "code",
   "execution_count": 2,
   "metadata": {},
   "outputs": [],
   "source": [
    "import neattext.functions as nfx\n",
    "\n",
    "def read_glove_vecs(glove_file: str) -> tuple:\n",
    "    with open(glove_file, 'r') as f:\n",
    "        words = set()\n",
    "        word_to_vec_map = {}\n",
    "\n",
    "        for line in f:\n",
    "            line = line.strip().split()\n",
    "            current_word = line[0]\n",
    "            words.add(current_word)\n",
    "            word_to_vec_map[current_word] = np.array(line[1:], dtype=np.float64)\n",
    "\n",
    "        i = 1\n",
    "        words_to_index, index_to_words = {}, {}\n",
    "        for w in sorted(words):\n",
    "            words_to_index[w] = i\n",
    "            index_to_words[i] = w\n",
    "            i += 1\n",
    "\n",
    "    return words_to_index, index_to_words, word_to_vec_map\n",
    "\n",
    "def convert_to_one_hot(Y, C):\n",
    "    Y = np.eye(C)[Y.reshape(-1)]\n",
    "    return Y\n",
    "\n",
    "def preprocess_text(text:str)->str:\n",
    "    text = text.lower()\n",
    "    text = nfx.remove_punctuations(text)\n",
    "    text = nfx.remove_stopwords(text)\n",
    "    text = ' '.join(text.split())\n",
    "\n",
    "    return text\n",
    "\n",
    "def create_utterances(filename:str, split: str):\n",
    "    sentences, act_labels, emotion_labels, speakers, conv_id, utt_id = [], [], [], [], [], []\n",
    "\n",
    "    with open(filename, 'r') as f:\n",
    "        for c_id, line in enumerate(f):\n",
    "            s = eval(line)\n",
    "            for u_id, item in enumerate(s['dialogue']):\n",
    "                sentences.append(item['text'])\n",
    "                act_labels.append(item['act'])\n",
    "                emotion_labels.append(item['emotion'])\n",
    "                conv_id.append(split[:2] + \"_c\" + str(c_id))\n",
    "                utt_id.append(split[:2] + \"_c\" + str(c_id) + \"_u\" + str(u_id))\n",
    "                speakers.append(str(u_id%2))\n",
    "\n",
    "    data = pd.DataFrame(sentences, columns=['sentence'])\n",
    "    data['sentence'] = data['sentence'].apply(lambda x: preprocess_text(x))\n",
    "    data['act_label'] = act_labels\n",
    "    data['emotion_label'] = emotion_labels\n",
    "    data['speaker'] = speakers\n",
    "    data['conv_id'] = conv_id\n",
    "    data['utt_id'] = utt_id\n",
    "\n",
    "    return data"
   ]
  },
  {
   "cell_type": "code",
   "execution_count": 3,
   "metadata": {},
   "outputs": [],
   "source": [
    "# Generate datasets\n",
    "DAILYDIALOG_DIR_PATH = \"../data/dailydialog/\"\n",
    "\n",
    "train_data = create_utterances(DAILYDIALOG_DIR_PATH + 'train.json', 'train')\n",
    "valid_data = create_utterances(DAILYDIALOG_DIR_PATH + 'valid.json', 'valid')\n",
    "test_data = create_utterances(DAILYDIALOG_DIR_PATH + 'test.json', 'test')"
   ]
  },
  {
   "cell_type": "code",
   "execution_count": 4,
   "metadata": {},
   "outputs": [],
   "source": [
    "# Encode emotion and dialog act labels\n",
    "def encode_labels(encoder, l):\n",
    "    return encoder[l]\n",
    "\n",
    "all_act_labels, all_emotion_labels = set(train_data[\"act_label\"]), set(train_data[\"emotion_label\"])\n",
    "act_label_encoder, emotion_label_encoder, act_label_decoder, emotion_label_decoder = {}, {}, {}, {}\n",
    "\n",
    "for i, label in enumerate(all_act_labels):\n",
    "    act_label_encoder[label] = i\n",
    "    act_label_decoder[i] = label\n",
    "\n",
    "for i, label in enumerate(all_emotion_labels):\n",
    "    emotion_label_encoder[label] = i\n",
    "    emotion_label_decoder[i] = {}\n",
    "\n",
    "train_data['encoded_act_label'] = train_data['act_label'].map(lambda x: encode_labels(act_label_encoder, x))\n",
    "test_data['encoded_act_label'] = test_data['act_label'].map(lambda x: encode_labels(act_label_encoder, x))\n",
    "valid_data['encoded_act_label'] = valid_data['act_label'].map(lambda x: encode_labels(act_label_encoder, x))\n",
    "\n",
    "train_data['encoded_emotion_label'] = train_data['emotion_label'].map(lambda x: encode_labels(emotion_label_encoder, x))\n",
    "test_data['encoded_emotion_label'] = test_data['emotion_label'].map(lambda x: encode_labels(emotion_label_encoder, x))\n",
    "valid_data['encoded_emotion_label'] = valid_data['emotion_label'].map(lambda x: encode_labels(emotion_label_encoder, x))"
   ]
  },
  {
   "cell_type": "code",
   "execution_count": 5,
   "metadata": {},
   "outputs": [],
   "source": [
    "# Tokenize all sentences\n",
    "all_text = list(train_data['sentence'])\n",
    "tokenizer = Tokenizer()\n",
    "tokenizer.fit_on_texts(all_text)"
   ]
  },
  {
   "cell_type": "code",
   "execution_count": 6,
   "metadata": {},
   "outputs": [],
   "source": [
    "# Convert sentences into sequences\n",
    "train_sequence = tokenizer.texts_to_sequences(list(train_data['sentence']))\n",
    "valid_sequence = tokenizer.texts_to_sequences(list(valid_data['sentence']))\n",
    "test_sequence = tokenizer.texts_to_sequences(list(test_data['sentence']))\n",
    "\n",
    "train_data['sentence_length'] = [len(item) for item in train_sequence]\n",
    "valid_data['sentence_length'] = [len(item) for item in valid_sequence]\n",
    "test_data['sentence_length'] = [len(item) for item in test_sequence]\n",
    "\n",
    "MAX_NUM_TOKENS = 250\n",
    "\n",
    "train_sequence = pad_sequences(train_sequence, maxlen=MAX_NUM_TOKENS, padding='post')\n",
    "valid_sequence = pad_sequences(valid_sequence, maxlen=MAX_NUM_TOKENS, padding='post')\n",
    "test_sequence = pad_sequences(test_sequence, maxlen=MAX_NUM_TOKENS, padding='post')\n",
    "\n",
    "train_data['sequence'] = list(train_sequence)\n",
    "valid_data['sequence'] = list(valid_sequence)\n",
    "test_data['sequence'] = list(test_sequence)"
   ]
  },
  {
   "cell_type": "markdown",
   "metadata": {},
   "source": [
    "# Define the Neural Network with Pre-trained Embedding Layer"
   ]
  },
  {
   "cell_type": "code",
   "execution_count": 7,
   "metadata": {},
   "outputs": [],
   "source": [
    "class Net(nn.Module):\n",
    "    def __init__(self, embedding, embedding_dim, hidden_dim, vocab_size, ouput_dim, batch_size) -> None:\n",
    "        super(Net, self).__init__()\n",
    "\n",
    "        self.batch_size = batch_size\n",
    "        self.hidden_dim = hidden_dim\n",
    "        self.word_embeddings = embedding\n",
    "        self.vocab_size = vocab_size\n",
    "\n",
    "        # LSTM takes word embeddings as inputs and outputs hidden states with dimensionality hidden_dim\n",
    "        self.lstm = nn.LSTM(embedding_dim, hidden_dim, num_layers=2, dropout=0.5, batch_first=True)\n",
    "\n",
    "        # Fully-connected linear layer\n",
    "        self.fc = nn.Linear(hidden_dim, ouput_dim)\n",
    "\n",
    "    \n",
    "    def forward(self, sentence):\n",
    "        embeds = self.word_embeddings(sentence)\n",
    "\n",
    "        # Initialise hidden state\n",
    "        h0 = torch.zeros(2, sentence.size(0), self.hidden_dim).requires_grad_().to(device)\n",
    "        c0 = torch.zeros(2, sentence.size(0), self.hidden_dim).requires_grad_().to(device)\n",
    "\n",
    "        lstm_out, h = self.lstm(embeds, (h0, c0))\n",
    "        lstm_out = lstm_out[:, -1, :]\n",
    "\n",
    "        # Dropout\n",
    "        lstm_out = F.dropout(lstm_out, 0.5)\n",
    "\n",
    "        fc_out = self.fc(lstm_out)\n",
    "\n",
    "        out = F.softmax(fc_out, dim=1)\n",
    "        return out"
   ]
  },
  {
   "cell_type": "markdown",
   "metadata": {},
   "source": [
    "# Create GloVe Embedding Layer"
   ]
  },
  {
   "cell_type": "code",
   "execution_count": 8,
   "metadata": {},
   "outputs": [],
   "source": [
    "from random import sample\n",
    "\n",
    "def pretrained_embedding_layer(word_to_vec_map: dict, word_to_index: dict, non_trainable: bool=True) -> tuple:\n",
    "    num_embeddings = len(word_to_index) + 1\n",
    "    random_word = sample(word_to_vec_map.keys(), 1)[0]\n",
    "    embedding_dim = word_to_vec_map[random_word].shape[0]\n",
    "    \n",
    "    # Initialise embedding matrix as a numpy array of zeroes of shape num_embeddings * embedding_dim\n",
    "    weights_matrix = np.zeros((num_embeddings, embedding_dim))\n",
    "\n",
    "    # Set each row \"index\" of the embedding matrix to be the word vector representation \n",
    "    # of the \"index\"th word of the vocabulary\n",
    "    for word, index in word_to_index.items():\n",
    "        weights_matrix[index, :] = word_to_vec_map[word]\n",
    "        \n",
    "    embed = nn.Embedding.from_pretrained(torch.from_numpy(weights_matrix).type(torch.FloatTensor), freeze=non_trainable)\n",
    "\n",
    "    return embed, num_embeddings, embedding_dim"
   ]
  },
  {
   "cell_type": "markdown",
   "metadata": {},
   "source": [
    "# Train the model"
   ]
  },
  {
   "cell_type": "code",
   "execution_count": 9,
   "metadata": {},
   "outputs": [],
   "source": [
    "# Extract sequences\n",
    "X_train = train_data['sequence'] #.to_numpy()\n",
    "X_test = test_data['sequence'] #.to_numpy()\n",
    "X_valid = valid_data['sequence'] #.to_numpy()\n",
    "\n",
    "y_train = train_data['encoded_emotion_label'].to_numpy()\n",
    "y_test = test_data['encoded_emotion_label'].to_numpy()\n",
    "y_valid = valid_data['encoded_emotion_label'].to_numpy()\n",
    "\n",
    "# Convert emotion labels to one-hot vectors\n",
    "C = train_data['encoded_emotion_label'].value_counts().size\n",
    "y_oh_train = convert_to_one_hot(y_train, C)\n",
    "y_oh_test = convert_to_one_hot(y_test, C)\n",
    "y_oh_valid = convert_to_one_hot(y_valid, C)"
   ]
  },
  {
   "cell_type": "code",
   "execution_count": 10,
   "metadata": {},
   "outputs": [],
   "source": [
    "# Load GloVe model\n",
    "word_to_index, index_to_word, word_to_vec_map = read_glove_vecs('../glove_model/glove.6B.100d.txt')"
   ]
  },
  {
   "cell_type": "code",
   "execution_count": 11,
   "metadata": {},
   "outputs": [
    {
     "name": "stderr",
     "output_type": "stream",
     "text": [
      "<ipython-input-8-07bd32ff251b>:5: DeprecationWarning: Sampling from a set deprecated\n",
      "since Python 3.9 and will be removed in a subsequent version.\n",
      "  random_word = sample(word_to_vec_map.keys(), 1)[0]\n"
     ]
    }
   ],
   "source": [
    "embedding, vocab_size, embedding_dim = pretrained_embedding_layer(word_to_vec_map, word_to_index)"
   ]
  },
  {
   "cell_type": "code",
   "execution_count": 12,
   "metadata": {},
   "outputs": [],
   "source": [
    "HIDDEN_DIM = 128\n",
    "OUTPUT_SIZE = 7\n",
    "BATCH_SIZE = 32\n",
    "EPOCHS = 3"
   ]
  },
  {
   "cell_type": "code",
   "execution_count": 13,
   "metadata": {},
   "outputs": [
    {
     "name": "stderr",
     "output_type": "stream",
     "text": [
      "<ipython-input-13-fa55b7cc28fd>:2: UserWarning: Creating a tensor from a list of numpy.ndarrays is extremely slow. Please consider converting the list to a single numpy.ndarray with numpy.array() before converting to a tensor. (Triggered internally at  ../torch/csrc/utils/tensor_new.cpp:201.)\n",
      "  train_dataset = TensorDataset(torch.Tensor(X_train).type(torch.LongTensor), torch.tensor(y_train).type(torch.LongTensor))\n"
     ]
    }
   ],
   "source": [
    "# Generate dataloaders\n",
    "train_dataset = TensorDataset(torch.Tensor(X_train).type(torch.LongTensor), torch.tensor(y_train).type(torch.LongTensor))\n",
    "train_loader = DataLoader(train_dataset, batch_size=BATCH_SIZE)\n",
    "\n",
    "test_dataset = TensorDataset(torch.Tensor(X_test).type(torch.LongTensor), torch.tensor(y_test).type(torch.LongTensor))\n",
    "test_loader = DataLoader(test_dataset, batch_size=BATCH_SIZE)\n",
    "\n",
    "valid_dataset = TensorDataset(torch.Tensor(X_valid).type(torch.LongTensor), torch.tensor(y_valid).type(torch.LongTensor))\n",
    "valid_loader = DataLoader(valid_dataset, batch_size=BATCH_SIZE)"
   ]
  },
  {
   "cell_type": "code",
   "execution_count": 14,
   "metadata": {},
   "outputs": [],
   "source": [
    "from tqdm import tqdm\n",
    "\n",
    "def train(model, trainloader, criterion, optimizer, epochs=10):\n",
    "    model.to(device)\n",
    "    running_loss = 0\n",
    "    train_losses, test_losses, accuracies = [], [], []\n",
    "    for e in range(epochs):\n",
    "        model.train()\n",
    "        running_loss = 0\n",
    "        for sentences, labels in tqdm(trainloader, f\"EPOCH {e + 1}\"):\n",
    "            sentences, labels = sentences.to(device), labels.to(device)\n",
    "            optimizer.zero_grad() # Erase previous gradients\n",
    "            pred = model.forward(sentences) # Make a prediction\n",
    "            loss = criterion(pred, labels) # Calculate how much we missed\n",
    "            loss.backward()\n",
    "            optimizer.step()\n",
    "            running_loss += loss.item() # Log our progress\n",
    "\n",
    "        else:\n",
    "            model.eval()\n",
    "\n",
    "            test_loss = 0\n",
    "            accuracy = 0\n",
    "\n",
    "            # Turn off gradients for validation\n",
    "            with torch.no_grad():\n",
    "                for sentences, labels in test_loader:\n",
    "                    sentences, labels = sentences.to(device), labels.to(device)\n",
    "                    log_ps = model(sentences)\n",
    "                    test_loss += criterion(log_ps, labels)\n",
    "\n",
    "                    ps = torch.exp(log_ps)\n",
    "                    top_p, top_class = ps.topk(1, dim=1)\n",
    "                    equals = top_class == labels.view(*top_class.shape)\n",
    "                    accuracy += torch.mean(equals.type(torch.FloatTensor))\n",
    "\n",
    "            train_losses.append(running_loss / len(train_loader))\n",
    "            test_losses.append(test_loss / len(test_loader))\n",
    "            accuracies.append(accuracy / len(test_loader) * 100)\n",
    "\n",
    "            print(\"Epoch: {}/{}.. \".format(e+1, epochs),\n",
    "                \"Training Loss: {:.3f}.. \".format(running_loss/len(train_loader)),\n",
    "                \"Test Loss: {:.3f}.. \".format(test_loss/len(test_loader)),\n",
    "                \"Test Accuracy: {:.3f}\".format(accuracy/len(test_loader)))\n",
    "\n",
    "            \n",
    "\n",
    "    # Plot\n",
    "    plt.figure(figsize=(20, 5))\n",
    "    plt.plot(train_losses, c='b', label='Training loss')\n",
    "    plt.plot(test_losses, c='r', label='Testing loss')\n",
    "    plt.xticks(np.arange(0, epochs))\n",
    "    plt.title('Losses')\n",
    "    plt.legend(loc='upper right')\n",
    "    plt.show()\n",
    "    plt.figure(figsize=(20, 5))\n",
    "    plt.plot(accuracies)\n",
    "    plt.xticks(np.arange(0, epochs))\n",
    "    plt.title('Accuracy')\n",
    "    plt.show()"
   ]
  },
  {
   "cell_type": "code",
   "execution_count": 15,
   "metadata": {},
   "outputs": [],
   "source": [
    "# import time\n",
    "# from tqdm import tqdm\n",
    "\n",
    "# def train(dataloader):\n",
    "#     model.train()\n",
    "#     # total_acc, total_count = 0, 0\n",
    "#     # log_interval = 50\n",
    "#     # start_time = time.time()\n",
    "\n",
    "#     for sentences, labels in tqdm(dataloader, \"Training in progress...\"):\n",
    "#         sentences, labels = sentences.to(device), labels.to(device)\n",
    "#         optimizer.zero_grad() # Erase previous gradients\n",
    "#         pred = model.forward(sentences) # Make a prediction\n",
    "#         loss = criterion(pred, labels) # Calculate how much we missed\n",
    "#         loss.backward()\n",
    "#         optimizer.step()\n",
    "\n",
    "#         # log_ps = model(sentences)\n",
    "#         # # loss = criterion(log_ps, labels)\n",
    "\n",
    "#         # ps = torch.exp(log_ps)\n",
    "#         # top_p, top_class = ps.topk(1, dim=1)\n",
    "#         # equals = top_class == labels.view(*top_class.shape)\n",
    "#         # total_acc += torch.mean(equals.type(torch.FloatTensor))\n",
    "#         # total_count += label.size(0)\n",
    "#         # if idx % log_interval == 0 and idx > 0:\n",
    "#         #     elapsed = time.time() - start_time\n",
    "#         #     print('| epoch {:3d} | {:5d}/{:5d} batches '\n",
    "#         #           '| accuracy {:8.3f}'.format(epoch, idx, len(dataloader),\n",
    "#         #                                       total_acc/total_count))\n",
    "#         #     total_acc, total_count = 0, 0\n",
    "#         #     start_time = time.time()\n",
    "\n",
    "# def evaluate(dataloader):\n",
    "#     model.eval()\n",
    "#     total_acc, total_count = 0, 0\n",
    "\n",
    "#     with torch.no_grad():\n",
    "#         for sentences, labels in tqdm(dataloader, \"Evaluating model...\"):\n",
    "#             # pred = model(sentences)\n",
    "#             # loss = criterion(pred, label)\n",
    "#             # total_acc += (pred.argmax(1) == label).sum().item()\n",
    "#             # total_count += label.size(0)\n",
    "#             log_ps = model(sentences)\n",
    "#             # loss = criterion(log_ps, labels)\n",
    "\n",
    "#             ps = torch.exp(log_ps)\n",
    "#             top_p, top_class = ps.topk(1, dim=1)\n",
    "#             equals = top_class == labels.view(*top_class.shape)\n",
    "#             total_acc += torch.mean(equals.type(torch.FloatTensor))\n",
    "#             total_count += labels.size(0)\n",
    "\n",
    "#     return total_acc/total_count"
   ]
  },
  {
   "cell_type": "code",
   "execution_count": 16,
   "metadata": {},
   "outputs": [
    {
     "name": "stderr",
     "output_type": "stream",
     "text": [
      "EPOCH 1: 100%|██████████| 2725/2725 [19:18<00:00,  2.35it/s]\n"
     ]
    },
    {
     "name": "stdout",
     "output_type": "stream",
     "text": [
      "Epoch: 1/3..  Training Loss: 1.340..  Test Loss: 1.349..  Test Accuracy: 0.817\n"
     ]
    },
    {
     "name": "stderr",
     "output_type": "stream",
     "text": [
      "EPOCH 2: 100%|██████████| 2725/2725 [22:34<00:00,  2.01it/s]\n"
     ]
    },
    {
     "name": "stdout",
     "output_type": "stream",
     "text": [
      "Epoch: 2/3..  Training Loss: 1.338..  Test Loss: 1.349..  Test Accuracy: 0.817\n"
     ]
    },
    {
     "name": "stderr",
     "output_type": "stream",
     "text": [
      "EPOCH 3: 100%|██████████| 2725/2725 [14:49<00:00,  3.06it/s]\n"
     ]
    },
    {
     "name": "stdout",
     "output_type": "stream",
     "text": [
      "Epoch: 3/3..  Training Loss: 1.338..  Test Loss: 1.349..  Test Accuracy: 0.817\n"
     ]
    },
    {
     "data": {
      "image/png": "[encoded data removed]",
      "text/plain": [
       "<Figure size 1440x360 with 1 Axes>"
      ]
     },
     "metadata": {
      "needs_background": "light"
     },
     "output_type": "display_data"
    },
    {
     "data": {
      "image/png": "[encoded data removed]",
      "text/plain": [
       "<Figure size 1440x360 with 1 Axes>"
      ]
     },
     "metadata": {
      "needs_background": "light"
     },
     "output_type": "display_data"
    }
   ],
   "source": [
    "# Training time!\n",
    "model = Net(embedding, embedding_dim, HIDDEN_DIM, vocab_size, OUTPUT_SIZE, BATCH_SIZE)\n",
    "criterion = nn.CrossEntropyLoss()\n",
    "optimizer = optim.Adam(model.parameters(), lr=0.001)\n",
    "total_accu = None\n",
    "train(model, train_loader, criterion, optimizer, EPOCHS)\n",
    "# N = 10\n",
    "# acc = 0\n",
    "# epoch_counter = 0\n",
    "\n",
    "# for epoch in range(1, EPOCHS + 1):\n",
    "#     epoch_start_time = time.time()\n",
    "#     train(train_loader)\n",
    "    \n",
    "#     # Question 5: Use your validation set to early stop the model. Remember to early stop when the validation accuracy does not improve for continous N number of epochs where N is a hyperparameter. Set N = 10\n",
    "#     val_acc = evaluate(valid_loader)\n",
    "#     if (acc >= val_acc):\n",
    "#         epoch_counter += 1\n",
    "#         if (epoch_counter == N): \n",
    "#             print(\"Validation set accuracy = \" + str(val_acc) + \"%\")\n",
    "#             break\n",
    "#     else:\n",
    "#         acc = val_acc\n",
    "#         epoch_counter = 0"
   ]
  },
  {
   "cell_type": "code",
   "execution_count": 17,
   "metadata": {},
   "outputs": [
    {
     "name": "stdout",
     "output_type": "stream",
     "text": [
      "Test Loss: 1.349..  Test Accuracy: 0.817\n"
     ]
    }
   ],
   "source": [
    "# Test model accuracy\n",
    "\n",
    "test_loss = 0\n",
    "accuracy = 0\n",
    "model.eval()\n",
    "with torch.no_grad():\n",
    "    for sentences, labels in test_loader:\n",
    "        sentences, labels = sentences.to(device), labels.to(device)\n",
    "        ps = model(sentences)\n",
    "        test_loss += criterion(ps, labels).item()\n",
    "\n",
    "        # Accuracy\n",
    "        top_p, top_class = ps.topk(1, dim=1)\n",
    "        equals = top_class == labels.view(*top_class.shape)\n",
    "        accuracy += torch.mean(equals.type(torch.FloatTensor))\n",
    "model.train()\n",
    "print(\"Test Loss: {:.3f}.. \".format(test_loss/len(test_loader)),\n",
    "      \"Test Accuracy: {:.3f}\".format(accuracy/len(test_loader)))\n",
    "running_loss = 0"
   ]
  },
  {
   "cell_type": "code",
   "execution_count": null,
   "metadata": {},
   "outputs": [],
   "source": []
  }
 ],
 "metadata": {
  "interpreter": {
   "hash": "7812ea015bdcee6f23a998adcdd2ef97c151c0c241b7b7070987d9313e41299d"
  },
  "kernelspec": {
   "display_name": "Python 3.9.1 64-bit",
   "language": "python",
   "name": "python3"
  },
  "language_info": {
   "codemirror_mode": {
    "name": "ipython",
    "version": 3
   },
   "file_extension": ".py",
   "mimetype": "text/x-python",
   "name": "python",
   "nbconvert_exporter": "python",
   "pygments_lexer": "ipython3",
   "version": "3.9.1"
  },
  "orig_nbformat": 4
 },
 "nbformat": 4,
 "nbformat_minor": 2
}
