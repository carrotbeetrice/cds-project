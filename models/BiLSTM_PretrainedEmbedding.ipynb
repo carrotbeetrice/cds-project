{
  "nbformat": 4,
  "nbformat_minor": 0,
  "metadata": {
    "colab": {
      "name": "BiLSTM_PretrainedEmbedding.ipynb",
      "provenance": [],
      "collapsed_sections": []
    },
    "kernelspec": {
      "name": "python3",
      "display_name": "Python 3"
    },
    "language_info": {
      "name": "python"
    },
    "accelerator": "GPU"
  },
  "cells": [
    {
      "cell_type": "code",
      "metadata": {
        "colab": {
          "base_uri": "https://localhost:8080/"
        },
        "id": "qXI7jgGsRonO",
        "outputId": "3fe556a8-aa19-493e-9ab3-2b3d0255b6d2"
      },
      "source": [
        "import torch\n",
        "\n",
        "device = \"cuda\" if torch.cuda.is_available() else \"cpu\"\n",
        "print(\"Using {} device\".format(device))"
      ],
      "execution_count": 24,
      "outputs": [
        {
          "output_type": "stream",
          "name": "stdout",
          "text": [
            "Using cuda device\n"
          ]
        }
      ]
    },
    {
      "cell_type": "markdown",
      "metadata": {
        "id": "xTdScXW2dnDF"
      },
      "source": [
        "Emotions NLP dataset from https://www.kaggle.com/praveengovi/emotions-dataset-for-nlp/code"
      ]
    },
    {
      "cell_type": "code",
      "metadata": {
        "colab": {
          "base_uri": "https://localhost:8080/"
        },
        "id": "xQcn9big9DET",
        "outputId": "c21ffd1c-ce9d-440a-f5e0-eab55074dad3"
      },
      "source": [
        "if 'google.colab' in str(get_ipython()):\n",
        "  from google.colab import drive\n",
        "  drive.mount('/content/gdrive', force_remount=True)\n",
        "  data_path = 'gdrive/MyDrive/cds-project/data/emotions-nlp/' # Replace with path to datasets in your g drive\n",
        "  glove_path = 'gdrive/MyDrive/cds-project/glove.6B.100d.txt'\n",
        "else:\n",
        "  data_path = '../data/emotions-nlp/' # Replace with path to datasets on local machine\n",
        "  glove_path = '../glove_model/glove.6B.100d.txt'\n",
        "print(\"Reading dataset from path \" + data_path)"
      ],
      "execution_count": 25,
      "outputs": [
        {
          "output_type": "stream",
          "name": "stdout",
          "text": [
            "Mounted at /content/gdrive\n",
            "Reading dataset from path gdrive/MyDrive/cds-project/data/emotions-nlp/\n"
          ]
        }
      ]
    },
    {
      "cell_type": "code",
      "metadata": {
        "id": "GQ05vo_A9MwG"
      },
      "source": [
        "# Import dataset\n",
        "import pandas as pd\n",
        "columns = ['text', 'emotion']\n",
        "df_train = pd.read_csv(data_path + 'train.txt', header=None, sep=';', names=columns, encoding='utf-8')\n",
        "df_test = pd.read_csv(data_path + 'test.txt', header=None, sep=';', names=columns, encoding='utf-8')\n",
        "df_val = pd.read_csv(data_path + 'val.txt', header=None, sep=';', names=columns, encoding='utf-8')"
      ],
      "execution_count": 26,
      "outputs": []
    },
    {
      "cell_type": "code",
      "metadata": {
        "id": "9hnPFBZk9bwF"
      },
      "source": [
        "# Check data distribution\n",
        "import seaborn as sns\n",
        "import matplotlib.pyplot as plt\n",
        "\n",
        "def plot_emotion_counts(df_train, df_test, df_val, emotion_column):\n",
        "    fig, ax = plt.subplots(1, 3, figsize=(15, 5), sharey=True)\n",
        "\n",
        "    sns.countplot(x=df_train[emotion_column].sort_values(), ax=ax[0])\n",
        "    ax[0].set_title(\"Training dataset\")\n",
        "\n",
        "    sns.countplot(x=df_test[emotion_column].sort_values(), ax=ax[1])\n",
        "    ax[1].set_title(\"Test dataset\")\n",
        "\n",
        "    sns.countplot(x=df_val[emotion_column].sort_values(), ax=ax[2])\n",
        "    ax[2].set_title(\"Validation dataset\")\n",
        "\n",
        "    plt.show()"
      ],
      "execution_count": 27,
      "outputs": []
    },
    {
      "cell_type": "code",
      "metadata": {
        "colab": {
          "base_uri": "https://localhost:8080/",
          "height": 350
        },
        "id": "5gjWR3W79jCD",
        "outputId": "a8294e19-2799-411e-eb20-b0d7d9802490"
      },
      "source": [
        "plot_emotion_counts(df_train, df_test, df_val, 'emotion')"
      ],
      "execution_count": 28,
      "outputs": [
        {
          "output_type": "display_data",
          "data": {
            "image/png": "[encoded data removed]",
            "text/plain": [
              "<Figure size 1080x360 with 3 Axes>"
            ]
          },
          "metadata": {
            "needs_background": "light"
          }
        }
      ]
    },
    {
      "cell_type": "markdown",
      "metadata": {
        "id": "Fz5TEorL9n5w"
      },
      "source": [
        "# Data Preprocessing"
      ]
    },
    {
      "cell_type": "code",
      "metadata": {
        "colab": {
          "base_uri": "https://localhost:8080/"
        },
        "id": "K4j-uThVBDzL",
        "outputId": "c9cabe32-b952-41a3-c113-f1532917c57c"
      },
      "source": [
        "# Remove stopwords\n",
        "import nltk, string, re\n",
        "\n",
        "nltk.download('stopwords')\n",
        "\n",
        "stopwords = nltk.corpus.stopwords.words('english')\n",
        "\n",
        "def clean_text(text):\n",
        "  text = text.lower() # Convert to lowercase\n",
        "  text = \" \".join([word for word in text.split() if word not in stopwords]) # Remove stopwords\n",
        "  text = re.sub('\\s+', ' ', text) # Remove extra spaces\n",
        "  text = re.sub(\"[^-9A-Za-z ]\", \" \", text) # Remove punctuation\n",
        "  return text\n",
        "\n",
        "df_train['text'] = df_train['text'].apply(clean_text)\n",
        "df_test['text'] = df_test['text'].apply(clean_text)\n",
        "df_val['text'] = df_val['text'].apply(clean_text)"
      ],
      "execution_count": 29,
      "outputs": [
        {
          "output_type": "stream",
          "name": "stdout",
          "text": [
            "[nltk_data] Downloading package stopwords to /root/nltk_data...\n",
            "[nltk_data]   Package stopwords is already up-to-date!\n"
          ]
        }
      ]
    },
    {
      "cell_type": "code",
      "metadata": {
        "colab": {
          "base_uri": "https://localhost:8080/",
          "height": 204
        },
        "id": "9GzI68Mq9k46",
        "outputId": "d0666d1d-90e7-4bc3-ceb0-829d66a7dd82"
      },
      "source": [
        "# Calculate text lengths\n",
        "df_train['text_length'] = df_train['text'].apply(lambda txt: len(txt.split()))\n",
        "df_test['text_length'] = df_test['text'].apply(lambda txt: len(txt.split()))\n",
        "df_val['text_length'] = df_val['text'].apply(lambda txt: len(txt.split()))\n",
        "df_train.head()"
      ],
      "execution_count": 30,
      "outputs": [
        {
          "output_type": "execute_result",
          "data": {
            "text/html": [
              "<div>\n",
              "<style scoped>\n",
              "    .dataframe tbody tr th:only-of-type {\n",
              "        vertical-align: middle;\n",
              "    }\n",
              "\n",
              "    .dataframe tbody tr th {\n",
              "        vertical-align: top;\n",
              "    }\n",
              "\n",
              "    .dataframe thead th {\n",
              "        text-align: right;\n",
              "    }\n",
              "</style>\n",
              "<table border=\"1\" class=\"dataframe\">\n",
              "  <thead>\n",
              "    <tr style=\"text-align: right;\">\n",
              "      <th></th>\n",
              "      <th>text</th>\n",
              "      <th>emotion</th>\n",
              "      <th>text_length</th>\n",
              "    </tr>\n",
              "  </thead>\n",
              "  <tbody>\n",
              "    <tr>\n",
              "      <th>0</th>\n",
              "      <td>didnt feel humiliated</td>\n",
              "      <td>sadness</td>\n",
              "      <td>3</td>\n",
              "    </tr>\n",
              "    <tr>\n",
              "      <th>1</th>\n",
              "      <td>go feeling hopeless damned hopeful around some...</td>\n",
              "      <td>sadness</td>\n",
              "      <td>9</td>\n",
              "    </tr>\n",
              "    <tr>\n",
              "      <th>2</th>\n",
              "      <td>im grabbing minute post feel greedy wrong</td>\n",
              "      <td>anger</td>\n",
              "      <td>7</td>\n",
              "    </tr>\n",
              "    <tr>\n",
              "      <th>3</th>\n",
              "      <td>ever feeling nostalgic fireplace know still pr...</td>\n",
              "      <td>love</td>\n",
              "      <td>7</td>\n",
              "    </tr>\n",
              "    <tr>\n",
              "      <th>4</th>\n",
              "      <td>feeling grouchy</td>\n",
              "      <td>anger</td>\n",
              "      <td>2</td>\n",
              "    </tr>\n",
              "  </tbody>\n",
              "</table>\n",
              "</div>"
            ],
            "text/plain": [
              "                                                text  emotion  text_length\n",
              "0                              didnt feel humiliated  sadness            3\n",
              "1  go feeling hopeless damned hopeful around some...  sadness            9\n",
              "2          im grabbing minute post feel greedy wrong    anger            7\n",
              "3  ever feeling nostalgic fireplace know still pr...     love            7\n",
              "4                                    feeling grouchy    anger            2"
            ]
          },
          "metadata": {},
          "execution_count": 30
        }
      ]
    },
    {
      "cell_type": "code",
      "metadata": {
        "id": "HH5SPRMo-ebj"
      },
      "source": [
        "# Convert emotion to integer\n",
        "emotions = df_train['emotion'].unique()\n",
        "emotion_to_id = {}\n",
        "for id in range(len(emotions)):\n",
        "  e = emotions[id]\n",
        "  emotion_to_id[e] = id\n",
        "output_size = len(emotion_to_id)"
      ],
      "execution_count": 31,
      "outputs": []
    },
    {
      "cell_type": "code",
      "metadata": {
        "colab": {
          "base_uri": "https://localhost:8080/",
          "height": 204
        },
        "id": "zYfKIrqy-2Ij",
        "outputId": "92ccfddf-4b3b-4245-f63c-04eb675cfbf5"
      },
      "source": [
        "df_train['emotion_id'] = df_train['emotion'].apply(lambda e: emotion_to_id[e])\n",
        "df_test['emotion_id'] = df_test['emotion'].apply(lambda e: emotion_to_id[e])\n",
        "df_val['emotion_id'] = df_val['emotion'].apply(lambda e: emotion_to_id[e])\n",
        "df_train.head()"
      ],
      "execution_count": 32,
      "outputs": [
        {
          "output_type": "execute_result",
          "data": {
            "text/html": [
              "<div>\n",
              "<style scoped>\n",
              "    .dataframe tbody tr th:only-of-type {\n",
              "        vertical-align: middle;\n",
              "    }\n",
              "\n",
              "    .dataframe tbody tr th {\n",
              "        vertical-align: top;\n",
              "    }\n",
              "\n",
              "    .dataframe thead th {\n",
              "        text-align: right;\n",
              "    }\n",
              "</style>\n",
              "<table border=\"1\" class=\"dataframe\">\n",
              "  <thead>\n",
              "    <tr style=\"text-align: right;\">\n",
              "      <th></th>\n",
              "      <th>text</th>\n",
              "      <th>emotion</th>\n",
              "      <th>text_length</th>\n",
              "      <th>emotion_id</th>\n",
              "    </tr>\n",
              "  </thead>\n",
              "  <tbody>\n",
              "    <tr>\n",
              "      <th>0</th>\n",
              "      <td>didnt feel humiliated</td>\n",
              "      <td>sadness</td>\n",
              "      <td>3</td>\n",
              "      <td>0</td>\n",
              "    </tr>\n",
              "    <tr>\n",
              "      <th>1</th>\n",
              "      <td>go feeling hopeless damned hopeful around some...</td>\n",
              "      <td>sadness</td>\n",
              "      <td>9</td>\n",
              "      <td>0</td>\n",
              "    </tr>\n",
              "    <tr>\n",
              "      <th>2</th>\n",
              "      <td>im grabbing minute post feel greedy wrong</td>\n",
              "      <td>anger</td>\n",
              "      <td>7</td>\n",
              "      <td>1</td>\n",
              "    </tr>\n",
              "    <tr>\n",
              "      <th>3</th>\n",
              "      <td>ever feeling nostalgic fireplace know still pr...</td>\n",
              "      <td>love</td>\n",
              "      <td>7</td>\n",
              "      <td>2</td>\n",
              "    </tr>\n",
              "    <tr>\n",
              "      <th>4</th>\n",
              "      <td>feeling grouchy</td>\n",
              "      <td>anger</td>\n",
              "      <td>2</td>\n",
              "      <td>1</td>\n",
              "    </tr>\n",
              "  </tbody>\n",
              "</table>\n",
              "</div>"
            ],
            "text/plain": [
              "                                                text  ... emotion_id\n",
              "0                              didnt feel humiliated  ...          0\n",
              "1  go feeling hopeless damned hopeful around some...  ...          0\n",
              "2          im grabbing minute post feel greedy wrong  ...          1\n",
              "3  ever feeling nostalgic fireplace know still pr...  ...          2\n",
              "4                                    feeling grouchy  ...          1\n",
              "\n",
              "[5 rows x 4 columns]"
            ]
          },
          "metadata": {},
          "execution_count": 32
        }
      ]
    },
    {
      "cell_type": "markdown",
      "metadata": {
        "id": "Pm00IQoxtvMf"
      },
      "source": [
        "# Create vocabulary"
      ]
    },
    {
      "cell_type": "code",
      "metadata": {
        "id": "03Z0AqCf_XfB"
      },
      "source": [
        "# Tokenize the text\n",
        "\n",
        "def tokenize(text):\n",
        "  return [word for word in text.split()]"
      ],
      "execution_count": 33,
      "outputs": []
    },
    {
      "cell_type": "code",
      "metadata": {
        "id": "oLETmQbp_-v6"
      },
      "source": [
        "# Build vocabulary\n",
        "from collections import Counter, OrderedDict\n",
        "\n",
        "all_text = pd.concat([df_train['text'], df_test['text'], df_val['text']])\n",
        "\n",
        "counts = Counter()\n",
        "for text in all_text:\n",
        "  counts.update(tokenize(text))"
      ],
      "execution_count": 34,
      "outputs": []
    },
    {
      "cell_type": "code",
      "metadata": {
        "colab": {
          "base_uri": "https://localhost:8080/"
        },
        "id": "ZundIfEGsw5C",
        "outputId": "fd062e51-b4c9-493a-e767-e745bc23c2dc"
      },
      "source": [
        "# Delete infrequently occuring words\n",
        "print(\"Number of words before cleaning vocabulary: \", len(counts.keys()))\n",
        "print(\"Cleaning vocabulary...\")\n",
        "for word in list(counts):\n",
        "  if counts[word] < 2:\n",
        "    del counts[word]\n",
        "print(\"Number of words after cleaning vocabulary: \", len(counts.keys()))"
      ],
      "execution_count": 35,
      "outputs": [
        {
          "output_type": "stream",
          "name": "stdout",
          "text": [
            "Number of words before cleaning vocabulary:  16947\n",
            "Cleaning vocabulary...\n",
            "Number of words after cleaning vocabulary:  8279\n"
          ]
        }
      ]
    },
    {
      "cell_type": "code",
      "metadata": {
        "id": "ErARXL1ktZB6"
      },
      "source": [
        "# Create vocabulary\n",
        "\n",
        "vocab2index = {\"\": 0, \"UNK\":1}\n",
        "words = list(vocab2index.keys())\n",
        "for word in counts:\n",
        "  vocab2index[word] = len(words)\n",
        "  words.append(word)"
      ],
      "execution_count": 36,
      "outputs": []
    },
    {
      "cell_type": "code",
      "metadata": {
        "id": "1kYZFU8mF1x0"
      },
      "source": [
        "# Create Vocab object\n",
        "from torchtext.vocab import vocab\n",
        "ordered_dict = OrderedDict(counts.most_common())\n",
        "vocab = vocab(ordered_dict)\n",
        "\n",
        "# insert special tokens and set default index to 'unknown'\n",
        "vocab.insert_token('<PAD>', 0)\n",
        "vocab.insert_token('<UNK>', 1)\n",
        "vocab.set_default_index(1)"
      ],
      "execution_count": 37,
      "outputs": []
    },
    {
      "cell_type": "code",
      "metadata": {
        "id": "rVCqkbIouCx0"
      },
      "source": [
        "import numpy as np\n",
        "\n",
        "def encode_sentence(text, vocab2index, N=70):\n",
        "  tokenized = tokenize(text)\n",
        "  encoded = np.zeros(N, dtype=int)\n",
        "  enc = np.array([vocab2index.get(word, vocab2index[\"UNK\"]) for word in tokenized])\n",
        "  length = min(N, len(enc))\n",
        "  encoded[:length] = enc[:length]\n",
        "  return encoded, length"
      ],
      "execution_count": 38,
      "outputs": []
    },
    {
      "cell_type": "code",
      "metadata": {
        "colab": {
          "base_uri": "https://localhost:8080/",
          "height": 204
        },
        "id": "YHfWsLQevXSp",
        "outputId": "3af33ce1-e8f1-493c-acb5-f958787b191f"
      },
      "source": [
        "df_train['encoded'] = df_train['text'].apply(lambda txt: np.array(encode_sentence(txt, vocab2index), dtype=object))\n",
        "df_test['encoded'] = df_test['text'].apply(lambda txt: np.array(encode_sentence(txt, vocab2index), dtype=object))\n",
        "df_val['encoded'] = df_val['text'].apply(lambda txt: np.array(encode_sentence(txt, vocab2index), dtype=object))\n",
        "df_train.head()"
      ],
      "execution_count": 39,
      "outputs": [
        {
          "output_type": "execute_result",
          "data": {
            "text/html": [
              "<div>\n",
              "<style scoped>\n",
              "    .dataframe tbody tr th:only-of-type {\n",
              "        vertical-align: middle;\n",
              "    }\n",
              "\n",
              "    .dataframe tbody tr th {\n",
              "        vertical-align: top;\n",
              "    }\n",
              "\n",
              "    .dataframe thead th {\n",
              "        text-align: right;\n",
              "    }\n",
              "</style>\n",
              "<table border=\"1\" class=\"dataframe\">\n",
              "  <thead>\n",
              "    <tr style=\"text-align: right;\">\n",
              "      <th></th>\n",
              "      <th>text</th>\n",
              "      <th>emotion</th>\n",
              "      <th>text_length</th>\n",
              "      <th>emotion_id</th>\n",
              "      <th>encoded</th>\n",
              "    </tr>\n",
              "  </thead>\n",
              "  <tbody>\n",
              "    <tr>\n",
              "      <th>0</th>\n",
              "      <td>didnt feel humiliated</td>\n",
              "      <td>sadness</td>\n",
              "      <td>3</td>\n",
              "      <td>0</td>\n",
              "      <td>[[2, 3, 4, 0, 0, 0, 0, 0, 0, 0, 0, 0, 0, 0, 0,...</td>\n",
              "    </tr>\n",
              "    <tr>\n",
              "      <th>1</th>\n",
              "      <td>go feeling hopeless damned hopeful around some...</td>\n",
              "      <td>sadness</td>\n",
              "      <td>9</td>\n",
              "      <td>0</td>\n",
              "      <td>[[5, 6, 7, 8, 9, 10, 11, 12, 13, 0, 0, 0, 0, 0...</td>\n",
              "    </tr>\n",
              "    <tr>\n",
              "      <th>2</th>\n",
              "      <td>im grabbing minute post feel greedy wrong</td>\n",
              "      <td>anger</td>\n",
              "      <td>7</td>\n",
              "      <td>1</td>\n",
              "      <td>[[14, 15, 16, 17, 3, 18, 19, 0, 0, 0, 0, 0, 0,...</td>\n",
              "    </tr>\n",
              "    <tr>\n",
              "      <th>3</th>\n",
              "      <td>ever feeling nostalgic fireplace know still pr...</td>\n",
              "      <td>love</td>\n",
              "      <td>7</td>\n",
              "      <td>2</td>\n",
              "      <td>[[20, 6, 21, 22, 23, 24, 25, 0, 0, 0, 0, 0, 0,...</td>\n",
              "    </tr>\n",
              "    <tr>\n",
              "      <th>4</th>\n",
              "      <td>feeling grouchy</td>\n",
              "      <td>anger</td>\n",
              "      <td>2</td>\n",
              "      <td>1</td>\n",
              "      <td>[[6, 26, 0, 0, 0, 0, 0, 0, 0, 0, 0, 0, 0, 0, 0...</td>\n",
              "    </tr>\n",
              "  </tbody>\n",
              "</table>\n",
              "</div>"
            ],
            "text/plain": [
              "                                                text  ...                                            encoded\n",
              "0                              didnt feel humiliated  ...  [[2, 3, 4, 0, 0, 0, 0, 0, 0, 0, 0, 0, 0, 0, 0,...\n",
              "1  go feeling hopeless damned hopeful around some...  ...  [[5, 6, 7, 8, 9, 10, 11, 12, 13, 0, 0, 0, 0, 0...\n",
              "2          im grabbing minute post feel greedy wrong  ...  [[14, 15, 16, 17, 3, 18, 19, 0, 0, 0, 0, 0, 0,...\n",
              "3  ever feeling nostalgic fireplace know still pr...  ...  [[20, 6, 21, 22, 23, 24, 25, 0, 0, 0, 0, 0, 0,...\n",
              "4                                    feeling grouchy  ...  [[6, 26, 0, 0, 0, 0, 0, 0, 0, 0, 0, 0, 0, 0, 0...\n",
              "\n",
              "[5 rows x 5 columns]"
            ]
          },
          "metadata": {},
          "execution_count": 39
        }
      ]
    },
    {
      "cell_type": "markdown",
      "metadata": {
        "id": "GSWHu5eEx2EQ"
      },
      "source": [
        "# Create GloVe embedding matrix"
      ]
    },
    {
      "cell_type": "code",
      "metadata": {
        "id": "OyR5_agX2XYL",
        "colab": {
          "base_uri": "https://localhost:8080/"
        },
        "outputId": "2da0cae9-660b-46da-c982-9a8a9317940c"
      },
      "source": [
        "import torchtext as text\n",
        "\n",
        "embedding_dim = 100\n",
        "\n",
        "try:\n",
        "  vec = text.vocab.GloVe(name='6B', dim=embedding_dim)\n",
        "  word_emb = vec.get_vecs_by_tokens(vocab.get_itos())\n",
        "except:\n",
        "  # Load embedding directly from text file\n",
        "  print(\"\\nLoading GloVe model from \" + glove_path + \"...\")\n",
        "  glove_model = {}\n",
        "  with open(glove_path, 'r') as f:\n",
        "    for line in f:\n",
        "      split_line = line.split()\n",
        "      word = split_line[0]\n",
        "      embedding = np.array(split_line[1:], dtype=np.float64)\n",
        "      glove_model[word] = embedding\n",
        "  print(f\"{len(glove_model)} words loaded\")\n",
        "\n",
        "  # Build embedding matrix\n",
        "  vocab_size = len(vocab.get_itos())\n",
        "  word_emb = np.zeros((vocab_size, embedding_dim))\n",
        "\n",
        "  for i, w in enumerate(vocab.get_itos()):\n",
        "    if i < vocab_size:\n",
        "      embedding_vector = glove_model.get(w, None)\n",
        "      if embedding_vector is not None:\n",
        "        word_emb[i] = embedding_vector\n",
        "\n",
        "  # Convert to tensor\n",
        "  word_emb = torch.Tensor(word_emb)"
      ],
      "execution_count": 87,
      "outputs": [
        {
          "output_type": "stream",
          "name": "stderr",
          "text": [
            ".vector_cache/glove.6B.zip: 862MB [02:43, 5.29MB/s]                           \n",
            "100%|█████████▉| 399999/400000 [00:21<00:00, 18586.70it/s]\n"
          ]
        }
      ]
    },
    {
      "cell_type": "markdown",
      "metadata": {
        "id": "uR7f-n1Wwx14"
      },
      "source": [
        "# LSTM with Pretrained GloVe word embeddings"
      ]
    },
    {
      "cell_type": "code",
      "metadata": {
        "id": "aaKp5FLNvfM4"
      },
      "source": [
        "import torch\n",
        "import torch.nn as nn\n",
        "import torch.nn.functional as F\n",
        "\n",
        "class Net(nn.Module):\n",
        "  def __init__(self, word_vec, embed_dim, output_size, hidden_dim = 100, num_layers=2, dropout=0.2):\n",
        "    super().__init__()\n",
        "    self.embedding = nn.Embedding(*(word_vec.size())).from_pretrained(word_vec, freeze=False)\n",
        "    self.embedding.weight.requires_grad = False # Freeze embeddings\n",
        "    self.lstm = nn.LSTM(embed_dim, hidden_dim, bidirectional=True, num_layers=num_layers, batch_first=True)\n",
        "    self.linear = nn.Linear(4 * hidden_dim, 64)\n",
        "    self.dropout = nn.Dropout(dropout)\n",
        "    self.relu = nn.ReLU()\n",
        "    self.out = nn.Linear(64, output_size)\n",
        "\n",
        "  def forward(self, text):\n",
        "    embedded = self.embedding(text)\n",
        "    embedded = torch.squeeze(torch.unsqueeze(embedded, 0))\n",
        "\n",
        "    h_lstm, _ = self.lstm(embedded)\n",
        "    avg_pool = torch.mean(h_lstm, 1)\n",
        "    max_pool, _ = torch.max(h_lstm, 1)\n",
        "    conc = torch.cat((avg_pool, max_pool), 1)\n",
        "    conc = self.relu(self.linear(conc))\n",
        "    conc = self.dropout(conc)\n",
        "    out = self.out(conc)\n",
        "    return out"
      ],
      "execution_count": 88,
      "outputs": []
    },
    {
      "cell_type": "markdown",
      "metadata": {
        "id": "dDr1rAaJ-7q3"
      },
      "source": [
        "# Create Dataset and DataLoaders"
      ]
    },
    {
      "cell_type": "code",
      "metadata": {
        "id": "dxtjhSrh-_p5"
      },
      "source": [
        "from torch.utils.data import Dataset, DataLoader\n",
        "\n",
        "class EmotionDataset(Dataset):\n",
        "    def __init__(self, X, Y):\n",
        "        self.X = X\n",
        "        self.y = Y\n",
        "        \n",
        "    def __len__(self):\n",
        "        return len(self.y)\n",
        "    \n",
        "    def __getitem__(self, idx):\n",
        "        return torch.from_numpy(self.X[idx][0].astype(np.int32)), self.y[idx], self.X[idx][1]"
      ],
      "execution_count": 89,
      "outputs": []
    },
    {
      "cell_type": "code",
      "metadata": {
        "id": "dQ7K_TgZ_QKa"
      },
      "source": [
        "train_dataset = EmotionDataset(df_train['encoded'], df_train['emotion_id'])\n",
        "test_dataset = EmotionDataset(df_test['encoded'], df_test['emotion_id'])\n",
        "val_dataset = EmotionDataset(df_val['encoded'], df_val['emotion_id'])"
      ],
      "execution_count": 90,
      "outputs": []
    },
    {
      "cell_type": "code",
      "metadata": {
        "id": "ClddH7aP_t8K"
      },
      "source": [
        "batch_size = 128\n",
        "train_dataloader = DataLoader(train_dataset, batch_size=batch_size, shuffle=True)\n",
        "test_dataloader = DataLoader(test_dataset, batch_size=batch_size, shuffle=True)\n",
        "val_dataloader = DataLoader(val_dataset, batch_size=batch_size, shuffle=True)"
      ],
      "execution_count": 91,
      "outputs": []
    },
    {
      "cell_type": "markdown",
      "metadata": {
        "id": "7oIiXS_j-xj_"
      },
      "source": [
        "# Train and evaluate model"
      ]
    },
    {
      "cell_type": "code",
      "metadata": {
        "id": "GtojtRmZwmBv"
      },
      "source": [
        "from sklearn.metrics import mean_squared_error\n",
        "\n",
        "def train_model(model, epochs=10, lr=0.001):\n",
        "    parameters = filter(lambda p: p.requires_grad, model.parameters())\n",
        "    optimizer = torch.optim.Adam(parameters, lr=lr)\n",
        "    train_losses, val_losses, accuracies = [], [], []\n",
        "    epochs_run = 0\n",
        "    N = 10\n",
        "    running_val_loss = 0\n",
        "    epoch_counter = 0\n",
        "\n",
        "    for i in range(epochs):\n",
        "        model.train()\n",
        "        sum_loss = 0.0\n",
        "        total = 0\n",
        "        for x, y, l in train_dataloader:\n",
        "            x = x.long().to(device)\n",
        "            y = y.long().to(device)\n",
        "            y_pred = model(x)\n",
        "            optimizer.zero_grad()\n",
        "            loss = F.cross_entropy(y_pred, y)\n",
        "            loss.backward()\n",
        "            optimizer.step()\n",
        "            sum_loss += loss.item()*y.shape[0]\n",
        "            total += y.shape[0]\n",
        "        epochs_run += 1\n",
        "        val_loss, val_acc = validation_metrics(model, val_dataloader)\n",
        "        train_loss = sum_loss/total\n",
        "        train_losses.append(train_loss)\n",
        "        val_losses.append(val_loss)\n",
        "        accuracies.append(val_acc)\n",
        "\n",
        "        if i % 5 == 0:\n",
        "            print(\"epoch {0} | train loss {1:.3f}, val loss {2:.3f}, val accuracy {3:.3f}\".format(i, train_loss, val_loss, val_acc))\n",
        "\n",
        "        # Early stopping to minimise loss\n",
        "        if (running_val_loss <= val_loss):\n",
        "          epoch_counter += 1\n",
        "          if (epoch_counter == N):\n",
        "            print(f\"Early stopped after {i + 1} epochs\")\n",
        "            break\n",
        "        else:\n",
        "          running_val_loss = val_loss\n",
        "          epoch_counter = 0\n",
        "\n",
        "    return train_losses, val_losses, accuracies, epochs_run\n",
        "\n",
        "def validation_metrics(model, valid_dl):\n",
        "    model.eval()\n",
        "    correct = 0\n",
        "    total = 0\n",
        "    sum_loss = 0.0\n",
        "\n",
        "    for x, y, l in valid_dl:\n",
        "        x = x.long().to(device)\n",
        "        y = y.long().to(device)\n",
        "        y_hat = model(x)\n",
        "        loss = F.cross_entropy(y_hat, y)\n",
        "        pred = torch.max(y_hat, 1)[1]\n",
        "        correct += (pred == y).float().sum()\n",
        "        total += y.shape[0]\n",
        "        sum_loss += loss.item()*y.shape[0]\n",
        "        \n",
        "    return sum_loss/total, correct/total"
      ],
      "execution_count": 92,
      "outputs": []
    },
    {
      "cell_type": "code",
      "metadata": {
        "colab": {
          "base_uri": "https://localhost:8080/"
        },
        "id": "KqUDBO_ZAafi",
        "outputId": "20035d73-0fda-40ab-917d-10af5a466023"
      },
      "source": [
        "model = Net(word_vec=word_emb, embed_dim=embedding_dim, output_size=output_size).to(device)\n",
        "\n",
        "train_losses, val_losses, accuracies, epochs_run = train_model(model, epochs=30)"
      ],
      "execution_count": 93,
      "outputs": [
        {
          "output_type": "stream",
          "name": "stdout",
          "text": [
            "epoch 0 | train loss 1.596, val loss 1.569, val accuracy 0.366\n",
            "epoch 5 | train loss 0.409, val loss 0.513, val accuracy 0.820\n",
            "Early stopped after 10 epochs\n"
          ]
        }
      ]
    },
    {
      "cell_type": "code",
      "metadata": {
        "id": "h8wZxZWsNxmy"
      },
      "source": [
        "# Show training results\n",
        "def show_results(train_losses, val_losses, accuracies, epochs):\n",
        "  x = [e for e in range(1, epochs + 1)]\n",
        "\n",
        "  # show loss results\n",
        "  plt.plot(x, train_losses, color='b', label='Training loss')\n",
        "  plt.plot(x, val_losses, color='r', label='Validation loss')\n",
        "  plt.legend()\n",
        "  plt.xlabel('epochs')\n",
        "  plt.title('Loss')\n",
        "  plt.show()\n",
        "\n",
        "  # show accuracy results\n",
        "  plt.plot(x, accuracies)\n",
        "  plt.xlabel('epochs')\n",
        "  plt.title('Training accuracy using validation set')\n",
        "  plt.show()"
      ],
      "execution_count": 94,
      "outputs": []
    },
    {
      "cell_type": "code",
      "metadata": {
        "colab": {
          "base_uri": "https://localhost:8080/",
          "height": 573
        },
        "id": "aXLqTMZaXNf_",
        "outputId": "42f3b870-467a-4703-afa0-3c931da9e2db"
      },
      "source": [
        "show_results(train_losses, val_losses, accuracies, epochs_run)"
      ],
      "execution_count": 95,
      "outputs": [
        {
          "output_type": "display_data",
          "data": {
            "image/png": "[encoded data removed]",
            "text/plain": [
              "<Figure size 432x288 with 1 Axes>"
            ]
          },
          "metadata": {
            "needs_background": "light"
          }
        },
        {
          "output_type": "display_data",
          "data": {
            "image/png": "[encoded data removed]",
            "text/plain": [
              "<Figure size 432x288 with 1 Axes>"
            ]
          },
          "metadata": {
            "needs_background": "light"
          }
        }
      ]
    },
    {
      "cell_type": "code",
      "metadata": {
        "id": "u0_DldsgXRy9"
      },
      "source": [
        "# Evaluate model with test set\n",
        "def evaluate_model(model, test_dl):\n",
        "    model.eval()\n",
        "    correct = 0\n",
        "    total = 0\n",
        "    sum_loss = 0.0\n",
        "\n",
        "    with torch.no_grad():\n",
        "      for x, y, l in test_dl:\n",
        "        x = x.long().to(device)\n",
        "        y = y.long().to(device)\n",
        "        y_hat = model(x)\n",
        "        loss = F.cross_entropy(y_hat, y)\n",
        "        pred = torch.max(y_hat, 1)[1]\n",
        "        correct += (pred == y).float().sum()\n",
        "        total += y.shape[0]\n",
        "        sum_loss += loss.item()*y.shape[0]\n",
        "\n",
        "    return sum_loss/total, correct/total"
      ],
      "execution_count": 96,
      "outputs": []
    },
    {
      "cell_type": "code",
      "metadata": {
        "colab": {
          "base_uri": "https://localhost:8080/"
        },
        "id": "w7ePZG5BZS5Q",
        "outputId": "e0a64137-d55a-404f-d040-efb7a1084d90"
      },
      "source": [
        "loss, acc = evaluate_model(model, test_dataloader)\n",
        "print(\"test loss {0:.3f}, test accuracy {1:.3f}\".format(loss, acc))"
      ],
      "execution_count": 97,
      "outputs": [
        {
          "output_type": "stream",
          "name": "stdout",
          "text": [
            "test loss 0.417, test accuracy 0.861\n"
          ]
        }
      ]
    },
    {
      "cell_type": "code",
      "metadata": {
        "id": "F4yKAAtXZuSZ"
      },
      "source": [
        ""
      ],
      "execution_count": 97,
      "outputs": []
    }
  ]
}