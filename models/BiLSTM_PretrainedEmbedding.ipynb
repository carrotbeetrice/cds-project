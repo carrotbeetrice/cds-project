{
  "nbformat": 4,
  "nbformat_minor": 0,
  "metadata": {
    "colab": {
      "name": "LSTM_PretrainedEmbedding.ipynb",
      "provenance": [],
      "collapsed_sections": []
    },
    "kernelspec": {
      "name": "python3",
      "display_name": "Python 3"
    },
    "language_info": {
      "name": "python"
    },
    "accelerator": "GPU"
  },
  "cells": [
    {
      "cell_type": "code",
      "metadata": {
        "colab": {
          "base_uri": "https://localhost:8080/"
        },
        "id": "xQcn9big9DET",
        "outputId": "369cbe23-a3c4-41c5-f2cd-85a4ec213aa9"
      },
      "source": [
        "if 'google.colab' in str(get_ipython()):\n",
        "  from google.colab import drive\n",
        "  drive.mount('/content/gdrive', force_remount=True)\n",
        "  data_path = 'gdrive/MyDrive/cds-project/data/emotions-nlp/' # Replace with path to datasets in your g drive\n",
        "else:\n",
        "  data_path = '../data/emotions-nlp/' # Replace with path to datasets on local machine\n",
        "print(\"Reading dataset from path \" + data_path)"
      ],
      "execution_count": 53,
      "outputs": [
        {
          "output_type": "stream",
          "name": "stdout",
          "text": [
            "Mounted at /content/gdrive\n",
            "Reading dataset from path gdrive/MyDrive/cds-project/data/emotions-nlp/\n"
          ]
        }
      ]
    },
    {
      "cell_type": "code",
      "metadata": {
        "id": "GQ05vo_A9MwG"
      },
      "source": [
        "# Import dataset\n",
        "import pandas as pd\n",
        "columns = ['text', 'emotion']\n",
        "df_train = pd.read_csv(data_path + 'train.txt', header=None, sep=';', names=columns, encoding='utf-8')\n",
        "df_test = pd.read_csv(data_path + 'test.txt', header=None, sep=';', names=columns, encoding='utf-8')\n",
        "df_val = pd.read_csv(data_path + 'val.txt', header=None, sep=';', names=columns, encoding='utf-8')"
      ],
      "execution_count": 54,
      "outputs": []
    },
    {
      "cell_type": "code",
      "metadata": {
        "id": "9hnPFBZk9bwF"
      },
      "source": [
        "# Check data distribution\n",
        "import seaborn as sns\n",
        "import matplotlib.pyplot as plt\n",
        "\n",
        "def plot_emotion_counts(df_train, df_test, df_val, emotion_column):\n",
        "    fig, ax = plt.subplots(1, 3, figsize=(15, 5), sharey=True)\n",
        "\n",
        "    sns.countplot(x=df_train[emotion_column].sort_values(), ax=ax[0])\n",
        "    ax[0].set_title(\"Training dataset\")\n",
        "\n",
        "    sns.countplot(x=df_test[emotion_column].sort_values(), ax=ax[1])\n",
        "    ax[1].set_title(\"Test dataset\")\n",
        "\n",
        "    sns.countplot(x=df_val[emotion_column].sort_values(), ax=ax[2])\n",
        "    ax[2].set_title(\"Validation dataset\")\n",
        "\n",
        "    plt.show()"
      ],
      "execution_count": 55,
      "outputs": []
    },
    {
      "cell_type": "code",
      "metadata": {
        "colab": {
          "base_uri": "https://localhost:8080/",
          "height": 350
        },
        "id": "5gjWR3W79jCD",
        "outputId": "fe68de79-09b9-48f6-de72-39d0aaee26d1"
      },
      "source": [
        "plot_emotion_counts(df_train, df_test, df_val, 'emotion')"
      ],
      "execution_count": 56,
      "outputs": [
        {
          "output_type": "display_data",
          "data": {
            "image/png": "[encoded data removed]",
            "text/plain": [
              "<Figure size 1080x360 with 3 Axes>"
            ]
          },
          "metadata": {
            "needs_background": "light"
          }
        }
      ]
    },
    {
      "cell_type": "markdown",
      "metadata": {
        "id": "Fz5TEorL9n5w"
      },
      "source": [
        "# Data Preprocessing"
      ]
    },
    {
      "cell_type": "code",
      "metadata": {
        "colab": {
          "base_uri": "https://localhost:8080/"
        },
        "id": "K4j-uThVBDzL",
        "outputId": "84a9c0f5-7931-4cef-e502-185f7d4c40ef"
      },
      "source": [
        "# Remove stopwords\n",
        "import nltk, string, re\n",
        "\n",
        "nltk.download('stopwords')\n",
        "\n",
        "stopwords = nltk.corpus.stopwords.words('english')\n",
        "\n",
        "def clean_text(text):\n",
        "  text = \" \".join([word for word in text.split() if word not in stopwords])\n",
        "  text = text.lower() # Convert to lowercase\n",
        "  text = re.sub('\\s+', ' ', text) # Remove extra spaces\n",
        "  text = re.sub(\"[^-9A-Za-z ]\", \" \", text) # Remove punctuation\n",
        "  return text\n",
        "\n",
        "df_train['text'] = df_train['text'].apply(clean_text)\n",
        "df_test['text'] = df_test['text'].apply(clean_text)\n",
        "df_val['text'] = df_val['text'].apply(clean_text)"
      ],
      "execution_count": 57,
      "outputs": [
        {
          "output_type": "stream",
          "name": "stdout",
          "text": [
            "[nltk_data] Downloading package stopwords to /root/nltk_data...\n",
            "[nltk_data]   Package stopwords is already up-to-date!\n"
          ]
        }
      ]
    },
    {
      "cell_type": "code",
      "metadata": {
        "colab": {
          "base_uri": "https://localhost:8080/",
          "height": 204
        },
        "id": "9GzI68Mq9k46",
        "outputId": "89585bfe-8992-4aa2-fc22-22e6547d7b0e"
      },
      "source": [
        "# Calculate text lengths\n",
        "df_train['text_length'] = df_train['text'].apply(lambda txt: len(txt.split()))\n",
        "df_test['text_length'] = df_test['text'].apply(lambda txt: len(txt.split()))\n",
        "df_val['text_length'] = df_val['text'].apply(lambda txt: len(txt.split()))\n",
        "df_train.head()"
      ],
      "execution_count": 58,
      "outputs": [
        {
          "output_type": "execute_result",
          "data": {
            "text/html": [
              "<div>\n",
              "<style scoped>\n",
              "    .dataframe tbody tr th:only-of-type {\n",
              "        vertical-align: middle;\n",
              "    }\n",
              "\n",
              "    .dataframe tbody tr th {\n",
              "        vertical-align: top;\n",
              "    }\n",
              "\n",
              "    .dataframe thead th {\n",
              "        text-align: right;\n",
              "    }\n",
              "</style>\n",
              "<table border=\"1\" class=\"dataframe\">\n",
              "  <thead>\n",
              "    <tr style=\"text-align: right;\">\n",
              "      <th></th>\n",
              "      <th>text</th>\n",
              "      <th>emotion</th>\n",
              "      <th>text_length</th>\n",
              "    </tr>\n",
              "  </thead>\n",
              "  <tbody>\n",
              "    <tr>\n",
              "      <th>0</th>\n",
              "      <td>didnt feel humiliated</td>\n",
              "      <td>sadness</td>\n",
              "      <td>3</td>\n",
              "    </tr>\n",
              "    <tr>\n",
              "      <th>1</th>\n",
              "      <td>go feeling hopeless damned hopeful around some...</td>\n",
              "      <td>sadness</td>\n",
              "      <td>9</td>\n",
              "    </tr>\n",
              "    <tr>\n",
              "      <th>2</th>\n",
              "      <td>im grabbing minute post feel greedy wrong</td>\n",
              "      <td>anger</td>\n",
              "      <td>7</td>\n",
              "    </tr>\n",
              "    <tr>\n",
              "      <th>3</th>\n",
              "      <td>ever feeling nostalgic fireplace know still pr...</td>\n",
              "      <td>love</td>\n",
              "      <td>7</td>\n",
              "    </tr>\n",
              "    <tr>\n",
              "      <th>4</th>\n",
              "      <td>feeling grouchy</td>\n",
              "      <td>anger</td>\n",
              "      <td>2</td>\n",
              "    </tr>\n",
              "  </tbody>\n",
              "</table>\n",
              "</div>"
            ],
            "text/plain": [
              "                                                text  emotion  text_length\n",
              "0                              didnt feel humiliated  sadness            3\n",
              "1  go feeling hopeless damned hopeful around some...  sadness            9\n",
              "2          im grabbing minute post feel greedy wrong    anger            7\n",
              "3  ever feeling nostalgic fireplace know still pr...     love            7\n",
              "4                                    feeling grouchy    anger            2"
            ]
          },
          "metadata": {},
          "execution_count": 58
        }
      ]
    },
    {
      "cell_type": "code",
      "metadata": {
        "id": "HH5SPRMo-ebj"
      },
      "source": [
        "# Convert emotion to integer\n",
        "emotions = df_train['emotion'].unique()\n",
        "emotion_to_id = {}\n",
        "for id in range(len(emotions)):\n",
        "  e = emotions[id]\n",
        "  emotion_to_id[e] = id\n",
        "output_size = len(emotion_to_id)"
      ],
      "execution_count": 59,
      "outputs": []
    },
    {
      "cell_type": "code",
      "metadata": {
        "colab": {
          "base_uri": "https://localhost:8080/",
          "height": 204
        },
        "id": "zYfKIrqy-2Ij",
        "outputId": "40b784ca-eb20-4fc9-d848-36e0f3b0e972"
      },
      "source": [
        "df_train['emotion_id'] = df_train['emotion'].apply(lambda e: emotion_to_id[e])\n",
        "df_test['emotion_id'] = df_test['emotion'].apply(lambda e: emotion_to_id[e])\n",
        "df_val['emotion_id'] = df_val['emotion'].apply(lambda e: emotion_to_id[e])\n",
        "df_train.head()"
      ],
      "execution_count": 60,
      "outputs": [
        {
          "output_type": "execute_result",
          "data": {
            "text/html": [
              "<div>\n",
              "<style scoped>\n",
              "    .dataframe tbody tr th:only-of-type {\n",
              "        vertical-align: middle;\n",
              "    }\n",
              "\n",
              "    .dataframe tbody tr th {\n",
              "        vertical-align: top;\n",
              "    }\n",
              "\n",
              "    .dataframe thead th {\n",
              "        text-align: right;\n",
              "    }\n",
              "</style>\n",
              "<table border=\"1\" class=\"dataframe\">\n",
              "  <thead>\n",
              "    <tr style=\"text-align: right;\">\n",
              "      <th></th>\n",
              "      <th>text</th>\n",
              "      <th>emotion</th>\n",
              "      <th>text_length</th>\n",
              "      <th>emotion_id</th>\n",
              "    </tr>\n",
              "  </thead>\n",
              "  <tbody>\n",
              "    <tr>\n",
              "      <th>0</th>\n",
              "      <td>didnt feel humiliated</td>\n",
              "      <td>sadness</td>\n",
              "      <td>3</td>\n",
              "      <td>0</td>\n",
              "    </tr>\n",
              "    <tr>\n",
              "      <th>1</th>\n",
              "      <td>go feeling hopeless damned hopeful around some...</td>\n",
              "      <td>sadness</td>\n",
              "      <td>9</td>\n",
              "      <td>0</td>\n",
              "    </tr>\n",
              "    <tr>\n",
              "      <th>2</th>\n",
              "      <td>im grabbing minute post feel greedy wrong</td>\n",
              "      <td>anger</td>\n",
              "      <td>7</td>\n",
              "      <td>1</td>\n",
              "    </tr>\n",
              "    <tr>\n",
              "      <th>3</th>\n",
              "      <td>ever feeling nostalgic fireplace know still pr...</td>\n",
              "      <td>love</td>\n",
              "      <td>7</td>\n",
              "      <td>2</td>\n",
              "    </tr>\n",
              "    <tr>\n",
              "      <th>4</th>\n",
              "      <td>feeling grouchy</td>\n",
              "      <td>anger</td>\n",
              "      <td>2</td>\n",
              "      <td>1</td>\n",
              "    </tr>\n",
              "  </tbody>\n",
              "</table>\n",
              "</div>"
            ],
            "text/plain": [
              "                                                text  ... emotion_id\n",
              "0                              didnt feel humiliated  ...          0\n",
              "1  go feeling hopeless damned hopeful around some...  ...          0\n",
              "2          im grabbing minute post feel greedy wrong  ...          1\n",
              "3  ever feeling nostalgic fireplace know still pr...  ...          2\n",
              "4                                    feeling grouchy  ...          1\n",
              "\n",
              "[5 rows x 4 columns]"
            ]
          },
          "metadata": {},
          "execution_count": 60
        }
      ]
    },
    {
      "cell_type": "markdown",
      "metadata": {
        "id": "Pm00IQoxtvMf"
      },
      "source": [
        "# Create vocabulary"
      ]
    },
    {
      "cell_type": "code",
      "metadata": {
        "id": "03Z0AqCf_XfB"
      },
      "source": [
        "# Tokenize the text\n",
        "\n",
        "def tokenize(text):\n",
        "  return [word for word in text.split()]"
      ],
      "execution_count": 61,
      "outputs": []
    },
    {
      "cell_type": "code",
      "metadata": {
        "id": "oLETmQbp_-v6"
      },
      "source": [
        "# Build vocabulary\n",
        "from collections import Counter, OrderedDict\n",
        "\n",
        "all_text = pd.concat([df_train['text'], df_test['text'], df_val['text']])\n",
        "\n",
        "counts = Counter()\n",
        "for text in all_text:\n",
        "  counts.update(tokenize(text))"
      ],
      "execution_count": 62,
      "outputs": []
    },
    {
      "cell_type": "code",
      "metadata": {
        "colab": {
          "base_uri": "https://localhost:8080/"
        },
        "id": "ZundIfEGsw5C",
        "outputId": "ce4bcfa3-0d05-4311-f30e-483a8e13ace9"
      },
      "source": [
        "# Delete infrequently occuring words\n",
        "print(\"Number of words before cleaning vocabulary: \", len(counts.keys()))\n",
        "print(\"Cleaning vocabulary...\")\n",
        "for word in list(counts):\n",
        "  if counts[word] < 2:\n",
        "    del counts[word]\n",
        "print(\"Number of words after cleaning vocabulary: \", len(counts.keys()))"
      ],
      "execution_count": 63,
      "outputs": [
        {
          "output_type": "stream",
          "name": "stdout",
          "text": [
            "Number of words before cleaning vocabulary:  16947\n",
            "Cleaning vocabulary...\n",
            "Number of words after cleaning vocabulary:  8279\n"
          ]
        }
      ]
    },
    {
      "cell_type": "code",
      "metadata": {
        "id": "ErARXL1ktZB6"
      },
      "source": [
        "# Create vocabulary\n",
        "\n",
        "vocab2index = {\"\": 0, \"UNK\":1}\n",
        "words = list(vocab2index.keys())\n",
        "for word in counts:\n",
        "  vocab2index[word] = len(words)\n",
        "  words.append(word)"
      ],
      "execution_count": 64,
      "outputs": []
    },
    {
      "cell_type": "code",
      "metadata": {
        "id": "1kYZFU8mF1x0"
      },
      "source": [
        "# Create Vocab object\n",
        "from torchtext.vocab import vocab\n",
        "ordered_dict = OrderedDict(counts.most_common())\n",
        "vocab = vocab(ordered_dict)\n",
        "\n",
        "# insert special tokens and set default index to 'unknown'\n",
        "vocab.insert_token('<PAD>', 0)\n",
        "vocab.insert_token('<UNK>', 1)\n",
        "vocab.set_default_index(1)"
      ],
      "execution_count": 65,
      "outputs": []
    },
    {
      "cell_type": "code",
      "metadata": {
        "id": "rVCqkbIouCx0"
      },
      "source": [
        "import numpy as np\n",
        "\n",
        "def encode_sentence(text, vocab2index, N=70):\n",
        "  tokenized = tokenize(text)\n",
        "  encoded = np.zeros(N, dtype=int)\n",
        "  enc = np.array([vocab2index.get(word, vocab2index[\"UNK\"]) for word in tokenized])\n",
        "  length = min(N, len(enc))\n",
        "  encoded[:length] = enc[:length]\n",
        "  return encoded, length"
      ],
      "execution_count": 66,
      "outputs": []
    },
    {
      "cell_type": "code",
      "metadata": {
        "colab": {
          "base_uri": "https://localhost:8080/",
          "height": 204
        },
        "id": "YHfWsLQevXSp",
        "outputId": "9b300103-0a53-4916-851f-4245f5430375"
      },
      "source": [
        "df_train['encoded'] = df_train['text'].apply(lambda txt: np.array(encode_sentence(txt, vocab2index), dtype=object))\n",
        "df_test['encoded'] = df_test['text'].apply(lambda txt: np.array(encode_sentence(txt, vocab2index), dtype=object))\n",
        "df_val['encoded'] = df_val['text'].apply(lambda txt: np.array(encode_sentence(txt, vocab2index), dtype=object))\n",
        "df_train.head()"
      ],
      "execution_count": 67,
      "outputs": [
        {
          "output_type": "execute_result",
          "data": {
            "text/html": [
              "<div>\n",
              "<style scoped>\n",
              "    .dataframe tbody tr th:only-of-type {\n",
              "        vertical-align: middle;\n",
              "    }\n",
              "\n",
              "    .dataframe tbody tr th {\n",
              "        vertical-align: top;\n",
              "    }\n",
              "\n",
              "    .dataframe thead th {\n",
              "        text-align: right;\n",
              "    }\n",
              "</style>\n",
              "<table border=\"1\" class=\"dataframe\">\n",
              "  <thead>\n",
              "    <tr style=\"text-align: right;\">\n",
              "      <th></th>\n",
              "      <th>text</th>\n",
              "      <th>emotion</th>\n",
              "      <th>text_length</th>\n",
              "      <th>emotion_id</th>\n",
              "      <th>encoded</th>\n",
              "    </tr>\n",
              "  </thead>\n",
              "  <tbody>\n",
              "    <tr>\n",
              "      <th>0</th>\n",
              "      <td>didnt feel humiliated</td>\n",
              "      <td>sadness</td>\n",
              "      <td>3</td>\n",
              "      <td>0</td>\n",
              "      <td>[[2, 3, 4, 0, 0, 0, 0, 0, 0, 0, 0, 0, 0, 0, 0,...</td>\n",
              "    </tr>\n",
              "    <tr>\n",
              "      <th>1</th>\n",
              "      <td>go feeling hopeless damned hopeful around some...</td>\n",
              "      <td>sadness</td>\n",
              "      <td>9</td>\n",
              "      <td>0</td>\n",
              "      <td>[[5, 6, 7, 8, 9, 10, 11, 12, 13, 0, 0, 0, 0, 0...</td>\n",
              "    </tr>\n",
              "    <tr>\n",
              "      <th>2</th>\n",
              "      <td>im grabbing minute post feel greedy wrong</td>\n",
              "      <td>anger</td>\n",
              "      <td>7</td>\n",
              "      <td>1</td>\n",
              "      <td>[[14, 15, 16, 17, 3, 18, 19, 0, 0, 0, 0, 0, 0,...</td>\n",
              "    </tr>\n",
              "    <tr>\n",
              "      <th>3</th>\n",
              "      <td>ever feeling nostalgic fireplace know still pr...</td>\n",
              "      <td>love</td>\n",
              "      <td>7</td>\n",
              "      <td>2</td>\n",
              "      <td>[[20, 6, 21, 22, 23, 24, 25, 0, 0, 0, 0, 0, 0,...</td>\n",
              "    </tr>\n",
              "    <tr>\n",
              "      <th>4</th>\n",
              "      <td>feeling grouchy</td>\n",
              "      <td>anger</td>\n",
              "      <td>2</td>\n",
              "      <td>1</td>\n",
              "      <td>[[6, 26, 0, 0, 0, 0, 0, 0, 0, 0, 0, 0, 0, 0, 0...</td>\n",
              "    </tr>\n",
              "  </tbody>\n",
              "</table>\n",
              "</div>"
            ],
            "text/plain": [
              "                                                text  ...                                            encoded\n",
              "0                              didnt feel humiliated  ...  [[2, 3, 4, 0, 0, 0, 0, 0, 0, 0, 0, 0, 0, 0, 0,...\n",
              "1  go feeling hopeless damned hopeful around some...  ...  [[5, 6, 7, 8, 9, 10, 11, 12, 13, 0, 0, 0, 0, 0...\n",
              "2          im grabbing minute post feel greedy wrong  ...  [[14, 15, 16, 17, 3, 18, 19, 0, 0, 0, 0, 0, 0,...\n",
              "3  ever feeling nostalgic fireplace know still pr...  ...  [[20, 6, 21, 22, 23, 24, 25, 0, 0, 0, 0, 0, 0,...\n",
              "4                                    feeling grouchy  ...  [[6, 26, 0, 0, 0, 0, 0, 0, 0, 0, 0, 0, 0, 0, 0...\n",
              "\n",
              "[5 rows x 5 columns]"
            ]
          },
          "metadata": {},
          "execution_count": 67
        }
      ]
    },
    {
      "cell_type": "markdown",
      "metadata": {
        "id": "GSWHu5eEx2EQ"
      },
      "source": [
        "# Create GloVe embedding matrix"
      ]
    },
    {
      "cell_type": "code",
      "metadata": {
        "id": "OyR5_agX2XYL"
      },
      "source": [
        "import torchtext as text\n",
        "\n",
        "vec = text.vocab.GloVe(name='6B', dim=50)\n",
        "word_emb = vec.get_vecs_by_tokens(vocab.get_itos())"
      ],
      "execution_count": 68,
      "outputs": []
    },
    {
      "cell_type": "markdown",
      "metadata": {
        "id": "uR7f-n1Wwx14"
      },
      "source": [
        "# LSTM with Pretrained GloVe word embeddings"
      ]
    },
    {
      "cell_type": "code",
      "metadata": {
        "id": "aaKp5FLNvfM4"
      },
      "source": [
        "import torch\n",
        "import torch.nn as nn\n",
        "import torch.nn.functional as F\n",
        "\n",
        "class Net(nn.Module):\n",
        "  def __init__(self, word_vec, embed_dim, output_size, hidden_dim = 100, num_layers=2, dropout=0.2):\n",
        "    super().__init__()\n",
        "    self.embedding = nn.Embedding(*(word_vec.size())).from_pretrained(word_vec, freeze=False)\n",
        "    self.embedding.weight.requires_grad = False # Freeze embeddings\n",
        "    self.lstm = nn.LSTM(embed_dim, hidden_dim, bidirectional=True, num_layers=num_layers, batch_first=True)\n",
        "    self.linear = nn.Linear(4 * hidden_dim, 64)\n",
        "    self.dropout = nn.Dropout(dropout)\n",
        "    self.relu = nn.ReLU()\n",
        "    self.out = nn.Linear(64, output_size)\n",
        "\n",
        "  def forward(self, text):\n",
        "    embedded = self.embedding(text)\n",
        "    embedded = torch.squeeze(torch.unsqueeze(embedded, 0))\n",
        "\n",
        "    h_lstm, _ = self.lstm(embedded)\n",
        "    avg_pool = torch.mean(h_lstm, 1)\n",
        "    max_pool, _ = torch.max(h_lstm, 1)\n",
        "    conc = torch.cat((avg_pool, max_pool), 1)\n",
        "    conc = self.relu(self.linear(conc))\n",
        "    conc = self.dropout(conc)\n",
        "    out = self.out(conc)\n",
        "    return out"
      ],
      "execution_count": 69,
      "outputs": []
    },
    {
      "cell_type": "markdown",
      "metadata": {
        "id": "dDr1rAaJ-7q3"
      },
      "source": [
        "# Create Dataset and DataLoaders"
      ]
    },
    {
      "cell_type": "code",
      "metadata": {
        "id": "dxtjhSrh-_p5"
      },
      "source": [
        "from torch.utils.data import Dataset, DataLoader\n",
        "\n",
        "class EmotionDataset(Dataset):\n",
        "    def __init__(self, X, Y):\n",
        "        self.X = X\n",
        "        self.y = Y\n",
        "        \n",
        "    def __len__(self):\n",
        "        return len(self.y)\n",
        "    \n",
        "    def __getitem__(self, idx):\n",
        "        return torch.from_numpy(self.X[idx][0].astype(np.int32)), self.y[idx], self.X[idx][1]"
      ],
      "execution_count": 70,
      "outputs": []
    },
    {
      "cell_type": "code",
      "metadata": {
        "id": "dQ7K_TgZ_QKa"
      },
      "source": [
        "train_dataset = EmotionDataset(df_train['encoded'], df_train['emotion_id'])\n",
        "test_dataset = EmotionDataset(df_test['encoded'], df_test['emotion_id'])\n",
        "val_dataset = EmotionDataset(df_val['encoded'], df_val['emotion_id'])"
      ],
      "execution_count": 71,
      "outputs": []
    },
    {
      "cell_type": "code",
      "metadata": {
        "id": "ClddH7aP_t8K"
      },
      "source": [
        "batch_size = 128\n",
        "train_dataloader = DataLoader(train_dataset, batch_size=batch_size, shuffle=True)\n",
        "test_dataloader = DataLoader(test_dataset, batch_size=batch_size, shuffle=True)\n",
        "val_dataloader = DataLoader(val_dataset, batch_size=batch_size, shuffle=True)"
      ],
      "execution_count": 72,
      "outputs": []
    },
    {
      "cell_type": "markdown",
      "metadata": {
        "id": "7oIiXS_j-xj_"
      },
      "source": [
        "# Train and evaluate model"
      ]
    },
    {
      "cell_type": "code",
      "metadata": {
        "id": "GtojtRmZwmBv"
      },
      "source": [
        "from sklearn.metrics import mean_squared_error\n",
        "\n",
        "def train_model(model, epochs=10, lr=0.001):\n",
        "    parameters = filter(lambda p: p.requires_grad, model.parameters())\n",
        "    optimizer = torch.optim.Adam(parameters, lr=lr)\n",
        "    train_losses, val_losses, accuracies, val_rmses = [], [], [], []\n",
        "    for i in range(epochs):\n",
        "        model.train()\n",
        "        sum_loss = 0.0\n",
        "        total = 0\n",
        "        for x, y, l in train_dataloader:\n",
        "            x = x.long()\n",
        "            y = y.long()\n",
        "            y_pred = model(x)\n",
        "            optimizer.zero_grad()\n",
        "            loss = F.cross_entropy(y_pred, y)\n",
        "            loss.backward()\n",
        "            optimizer.step()\n",
        "            sum_loss += loss.item()*y.shape[0]\n",
        "            total += y.shape[0]\n",
        "        val_loss, val_acc, val_rmse = validation_metrics(model, val_dataloader)\n",
        "        train_loss = sum_loss/total\n",
        "        train_losses.append(train_loss)\n",
        "        val_losses.append(val_loss)\n",
        "        accuracies.append(val_acc)\n",
        "        val_rmses.append(val_rmse)\n",
        "        if i % 5 == 0:\n",
        "            print(\"epoch {0} | train loss {1:.3f}, val loss {2:.3f}, val accuracy {3:.3f}, and val rmse {4:.3f}\".format(i, train_loss, val_loss, val_acc, val_rmse))\n",
        "    return train_losses, val_losses, accuracies, val_rmses\n",
        "\n",
        "def validation_metrics (model, valid_dl):\n",
        "    model.eval()\n",
        "    correct = 0\n",
        "    total = 0\n",
        "    sum_loss = 0.0\n",
        "    sum_rmse = 0.0\n",
        "    for x, y, l in valid_dl:\n",
        "        x = x.long()\n",
        "        y = y.long()\n",
        "        y_hat = model(x)\n",
        "        loss = F.cross_entropy(y_hat, y)\n",
        "        pred = torch.max(y_hat, 1)[1]\n",
        "        correct += (pred == y).float().sum()\n",
        "        total += y.shape[0]\n",
        "        sum_loss += loss.item()*y.shape[0]\n",
        "        sum_rmse += np.sqrt(mean_squared_error(pred, y.unsqueeze(-1)))*y.shape[0]\n",
        "    return sum_loss/total, correct/total, sum_rmse/total"
      ],
      "execution_count": 75,
      "outputs": []
    },
    {
      "cell_type": "code",
      "metadata": {
        "colab": {
          "base_uri": "https://localhost:8080/"
        },
        "id": "KqUDBO_ZAafi",
        "outputId": "4d56a8a1-c752-4d36-8aa0-13c9aa622aa4"
      },
      "source": [
        "model = Net(word_vec=word_emb, embed_dim=50, output_size=output_size)\n",
        "\n",
        "train_losses, val_losses, accuracies, val_rmses = train_model(model, epochs=30)"
      ],
      "execution_count": 76,
      "outputs": [
        {
          "output_type": "stream",
          "name": "stdout",
          "text": [
            "epoch 0 | train loss 1.596, val loss 1.579, val accuracy 0.352, and val rmse 3.183\n",
            "epoch 5 | train loss 0.800, val loss 0.834, val accuracy 0.707, and val rmse 1.880\n",
            "epoch 10 | train loss 0.276, val loss 0.606, val accuracy 0.812, and val rmse 1.413\n",
            "epoch 15 | train loss 0.098, val loss 0.731, val accuracy 0.814, and val rmse 1.356\n",
            "epoch 20 | train loss 0.047, val loss 0.810, val accuracy 0.818, and val rmse 1.395\n",
            "epoch 25 | train loss 0.043, val loss 0.862, val accuracy 0.822, and val rmse 1.398\n"
          ]
        }
      ]
    },
    {
      "cell_type": "code",
      "metadata": {
        "id": "h8wZxZWsNxmy"
      },
      "source": [
        "# Show training results\n",
        "def show_results(train_losses, val_losses, accuracies, val_rmses, epochs):\n",
        "  x = [e for e in range(1, epochs + 1)]\n",
        "\n",
        "  # show loss results\n",
        "  plt.plot(x, train_losses, color='b', label='Training loss')\n",
        "  plt.plot(x, val_losses, color='r', label='Validation loss')\n",
        "  plt.legend()\n",
        "  plt.xlabel('epochs')\n",
        "  plt.title('Loss')\n",
        "  plt.show()\n",
        "\n",
        "  # show accuracy results\n",
        "  plt.plot(x, accuracies)\n",
        "  plt.xlabel('epochs')\n",
        "  plt.title('Training accuracy using validation set')\n",
        "  plt.show()\n",
        "\n",
        "  # show RMSE results\n",
        "  plt.plot(x, val_rmses)\n",
        "  plt.xlabel('epochs')\n",
        "  plt.title('Validation RMSE')\n",
        "  plt.show()"
      ],
      "execution_count": 77,
      "outputs": []
    },
    {
      "cell_type": "code",
      "metadata": {
        "colab": {
          "base_uri": "https://localhost:8080/",
          "height": 851
        },
        "id": "aXLqTMZaXNf_",
        "outputId": "7de00929-3922-493a-be0b-e3bbd11fe404"
      },
      "source": [
        "epochs = 30\n",
        "\n",
        "show_results(train_losses, val_losses, accuracies, val_rmses, epochs)"
      ],
      "execution_count": 78,
      "outputs": [
        {
          "output_type": "display_data",
          "data": {
            "image/png": "[encoded data removed]",
            "text/plain": [
              "<Figure size 432x288 with 1 Axes>"
            ]
          },
          "metadata": {
            "needs_background": "light"
          }
        },
        {
          "output_type": "display_data",
          "data": {
            "image/png": "[encoded data removed]",
            "text/plain": [
              "<Figure size 432x288 with 1 Axes>"
            ]
          },
          "metadata": {
            "needs_background": "light"
          }
        },
        {
          "output_type": "display_data",
          "data": {
            "image/png": "[encoded data removed]",
            "text/plain": [
              "<Figure size 432x288 with 1 Axes>"
            ]
          },
          "metadata": {
            "needs_background": "light"
          }
        }
      ]
    },
    {
      "cell_type": "code",
      "metadata": {
        "id": "u0_DldsgXRy9"
      },
      "source": [
        "# Evaluate model with test set\n",
        "def evaluate_model(model, test_dl):\n",
        "    model.eval()\n",
        "    correct = 0\n",
        "    total = 0\n",
        "    sum_loss = 0.0\n",
        "    sum_rmse = 0.0\n",
        "\n",
        "    with torch.no_grad():\n",
        "      for x, y, l in test_dl:\n",
        "        x = x.long()\n",
        "        y = y.long()\n",
        "        y_hat = model(x)\n",
        "        loss = F.cross_entropy(y_hat, y)\n",
        "        pred = torch.max(y_hat, 1)[1]\n",
        "        correct += (pred == y).float().sum()\n",
        "        total += y.shape[0]\n",
        "        sum_loss += loss.item()*y.shape[0]\n",
        "        sum_rmse += np.sqrt(mean_squared_error(pred, y.unsqueeze(-1)))*y.shape[0]\n",
        "\n",
        "    return sum_loss/total, correct/total, sum_rmse/total"
      ],
      "execution_count": 79,
      "outputs": []
    },
    {
      "cell_type": "code",
      "metadata": {
        "colab": {
          "base_uri": "https://localhost:8080/"
        },
        "id": "w7ePZG5BZS5Q",
        "outputId": "d6a35288-ee2f-48a9-94f0-e1d97eb8ab33"
      },
      "source": [
        "loss, acc, rmse = evaluate_model(model, test_dataloader)\n",
        "print(\"test loss {0:.3f}, test accuracy {1:.3f}, and test rmse {2:.3f}\".format(loss, acc, rmse))"
      ],
      "execution_count": 80,
      "outputs": [
        {
          "output_type": "stream",
          "name": "stdout",
          "text": [
            "test loss 1.042, test accuracy 0.808, and test rmse 1.464\n"
          ]
        }
      ]
    },
    {
      "cell_type": "code",
      "metadata": {
        "id": "F4yKAAtXZuSZ"
      },
      "source": [
        ""
      ],
      "execution_count": 80,
      "outputs": []
    }
  ]
}