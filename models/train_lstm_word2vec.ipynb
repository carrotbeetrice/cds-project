{
 "cells": [
  {
   "cell_type": "code",
   "execution_count": 1,
   "metadata": {},
   "outputs": [],
   "source": [
    "import pandas as pd\n",
    "import seaborn as sns"
   ]
  },
  {
   "cell_type": "code",
   "execution_count": 2,
   "metadata": {},
   "outputs": [],
   "source": [
    "# Import dataset\n",
    "columns = ['Input', 'Sentiment']\n",
    "df_train = pd.read_csv('../data/emotions-nlp/train.txt', header=None, sep=';', names=columns, encoding='utf-8')\n",
    "df_test = pd.read_csv('../data/emotions-nlp/test.txt', header=None, sep=';', names=columns, encoding='utf-8')\n",
    "df_val = pd.read_csv('../data/emotions-nlp/val.txt', header=None, sep=';', names=columns, encoding='utf-8')"
   ]
  },
  {
   "cell_type": "markdown",
   "metadata": {},
   "source": [
    "# Dataset Balancing"
   ]
  },
  {
   "cell_type": "code",
   "execution_count": 3,
   "metadata": {},
   "outputs": [],
   "source": [
    "# Check data distribution\n",
    "import matplotlib.pyplot as plt\n",
    "\n",
    "def plot_emotion_counts(df_train, df_test, df_val):\n",
    "    fig, ax = plt.subplots(1, 3, figsize=(15, 5), sharey=True)\n",
    "\n",
    "    sns.countplot(x=df_train.Sentiment.sort_values(), ax=ax[0])\n",
    "    ax[0].set_title(\"Training dataset\")\n",
    "\n",
    "    sns.countplot(x=df_test.Sentiment.sort_values(), ax=ax[1])\n",
    "    ax[1].set_title(\"Test dataset\")\n",
    "\n",
    "    sns.countplot(x=df_val.Sentiment.sort_values(), ax=ax[2])\n",
    "    ax[2].set_title(\"Validation dataset\")\n",
    "\n",
    "    plt.show()"
   ]
  },
  {
   "cell_type": "code",
   "execution_count": 4,
   "metadata": {},
   "outputs": [
    {
     "data": {
      "image/png": "[encoded data removed]",
      "text/plain": [
       "<Figure size 1080x360 with 3 Axes>"
      ]
     },
     "metadata": {
      "needs_background": "light"
     },
     "output_type": "display_data"
    }
   ],
   "source": [
    "plot_emotion_counts(df_train, df_test, df_val)"
   ]
  },
  {
   "cell_type": "code",
   "execution_count": 5,
   "metadata": {},
   "outputs": [],
   "source": [
    "# Balance dataset by upsampling the minority class (surprise)\n",
    "from sklearn.utils import resample\n",
    "\n",
    "def upsample(minority, majority, class_column):\n",
    "    # Upsample minority class to average size of the majority classes\n",
    "    majority_class_count = len(majority[class_column].unique())\n",
    "    average_class_size = int(len(majority) / majority_class_count)\n",
    "\n",
    "    minority_upsampled = resample(minority, replace=True, n_samples=average_class_size, random_state=42)\n",
    "    df_upsampled = pd.concat([majority, minority_upsampled])\n",
    "    return df_upsampled"
   ]
  },
  {
   "cell_type": "code",
   "execution_count": 6,
   "metadata": {},
   "outputs": [
    {
     "data": {
      "image/png": "[encoded data removed]",
      "text/plain": [
       "<Figure size 1080x360 with 3 Axes>"
      ]
     },
     "metadata": {
      "needs_background": "light"
     },
     "output_type": "display_data"
    }
   ],
   "source": [
    "# Balance training dataset\n",
    "df_train_majority = df_train[df_train.Sentiment == 'surprise']\n",
    "df_train_minority = df_train[df_train.Sentiment != 'surprise']\n",
    "df_train_upsampled = upsample(df_train_majority, df_train_minority, 'Sentiment')\n",
    "plot_emotion_counts(df_train_upsampled, df_test, df_val)"
   ]
  },
  {
   "cell_type": "markdown",
   "metadata": {},
   "source": [
    "# Text Cleaning"
   ]
  },
  {
   "cell_type": "code",
   "execution_count": 7,
   "metadata": {},
   "outputs": [],
   "source": [
    "import re, nltk, string\n",
    "\n",
    "stopwords = nltk.corpus.stopwords.words('english')\n",
    "ps = nltk.PorterStemmer()\n",
    "\n",
    "def remove_stopwords(text):\n",
    "    text = text.split(' ')\n",
    "    return \" \".join([word for word in text if word not in stopwords])\n",
    "\n",
    "def stem(text):\n",
    "    text = text.split(' ')\n",
    "    return \" \".join([ps.stem(word) for word in text])\n",
    "\n",
    "def text_cleaning(df, column):\n",
    "    df[column] = df[column].apply(lambda x: str(x).lower()) # Convert to lowercase\n",
    "    df[column] = df[column].apply(lambda x: re.sub('\\s+', ' ', x)) # Remove extra spaces\n",
    "    df[column] = df[column].apply(lambda x: re.sub(\"[^-9A-Za-z ]\", \" \", x)) # Remove punctuation\n",
    "    df[column] = df[column].apply(remove_stopwords)\n",
    "    return df"
   ]
  },
  {
   "cell_type": "code",
   "execution_count": 8,
   "metadata": {},
   "outputs": [
    {
     "data": {
      "text/html": [
       "<div>\n",
       "<style scoped>\n",
       "    .dataframe tbody tr th:only-of-type {\n",
       "        vertical-align: middle;\n",
       "    }\n",
       "\n",
       "    .dataframe tbody tr th {\n",
       "        vertical-align: top;\n",
       "    }\n",
       "\n",
       "    .dataframe thead th {\n",
       "        text-align: right;\n",
       "    }\n",
       "</style>\n",
       "<table border=\"1\" class=\"dataframe\">\n",
       "  <thead>\n",
       "    <tr style=\"text-align: right;\">\n",
       "      <th></th>\n",
       "      <th>Input</th>\n",
       "      <th>Sentiment</th>\n",
       "    </tr>\n",
       "  </thead>\n",
       "  <tbody>\n",
       "    <tr>\n",
       "      <th>0</th>\n",
       "      <td>didnt feel humiliated</td>\n",
       "      <td>sadness</td>\n",
       "    </tr>\n",
       "    <tr>\n",
       "      <th>1</th>\n",
       "      <td>go feeling hopeless damned hopeful around some...</td>\n",
       "      <td>sadness</td>\n",
       "    </tr>\n",
       "    <tr>\n",
       "      <th>2</th>\n",
       "      <td>im grabbing minute post feel greedy wrong</td>\n",
       "      <td>anger</td>\n",
       "    </tr>\n",
       "    <tr>\n",
       "      <th>3</th>\n",
       "      <td>ever feeling nostalgic fireplace know still pr...</td>\n",
       "      <td>love</td>\n",
       "    </tr>\n",
       "    <tr>\n",
       "      <th>4</th>\n",
       "      <td>feeling grouchy</td>\n",
       "      <td>anger</td>\n",
       "    </tr>\n",
       "    <tr>\n",
       "      <th>5</th>\n",
       "      <td>ive feeling little burdened lately wasnt sure</td>\n",
       "      <td>sadness</td>\n",
       "    </tr>\n",
       "    <tr>\n",
       "      <th>6</th>\n",
       "      <td>ive taking milligrams times recommended amount...</td>\n",
       "      <td>surprise</td>\n",
       "    </tr>\n",
       "    <tr>\n",
       "      <th>7</th>\n",
       "      <td>feel confused life teenager jaded year old man</td>\n",
       "      <td>fear</td>\n",
       "    </tr>\n",
       "    <tr>\n",
       "      <th>8</th>\n",
       "      <td>petronas years feel petronas performed well ma...</td>\n",
       "      <td>joy</td>\n",
       "    </tr>\n",
       "    <tr>\n",
       "      <th>9</th>\n",
       "      <td>feel romantic</td>\n",
       "      <td>love</td>\n",
       "    </tr>\n",
       "  </tbody>\n",
       "</table>\n",
       "</div>"
      ],
      "text/plain": [
       "                                               Input Sentiment\n",
       "0                              didnt feel humiliated   sadness\n",
       "1  go feeling hopeless damned hopeful around some...   sadness\n",
       "2          im grabbing minute post feel greedy wrong     anger\n",
       "3  ever feeling nostalgic fireplace know still pr...      love\n",
       "4                                    feeling grouchy     anger\n",
       "5      ive feeling little burdened lately wasnt sure   sadness\n",
       "6  ive taking milligrams times recommended amount...  surprise\n",
       "7     feel confused life teenager jaded year old man      fear\n",
       "8  petronas years feel petronas performed well ma...       joy\n",
       "9                                      feel romantic      love"
      ]
     },
     "execution_count": 8,
     "metadata": {},
     "output_type": "execute_result"
    }
   ],
   "source": [
    "text_cleaning(df_train, 'Input') # Need to upsample original training set to build vocab\n",
    "text_cleaning(df_train_upsampled, 'Input')\n",
    "text_cleaning(df_test, 'Input')\n",
    "text_cleaning(df_val, 'Input')\n",
    "df_train.head(10)"
   ]
  },
  {
   "cell_type": "markdown",
   "metadata": {},
   "source": [
    "# Create vocabulary"
   ]
  },
  {
   "cell_type": "code",
   "execution_count": 9,
   "metadata": {},
   "outputs": [],
   "source": [
    "from torchtext.data.utils import get_tokenizer\n",
    "from collections import Counter, OrderedDict\n",
    "from torchtext.vocab import vocab"
   ]
  },
  {
   "cell_type": "code",
   "execution_count": 10,
   "metadata": {},
   "outputs": [
    {
     "name": "stderr",
     "output_type": "stream",
     "text": [
      "/Library/Frameworks/Python.framework/Versions/3.9/lib/python3.9/site-packages/torchtext/data/utils.py:123: UserWarning: Spacy model \"en\" could not be loaded, trying \"en_core_web_sm\" instead\n",
      "  warnings.warn(f'Spacy model \"{language}\" could not be loaded, trying \"{OLD_MODEL_SHORTCUTS[language]}\" instead')\n"
     ]
    }
   ],
   "source": [
    "EMBEDDING_DIM=50\n",
    "VOCAB_SIZE=20000\n",
    "\n",
    "# Load tokenizer\n",
    "tokenizer = get_tokenizer('spacy', language='en')\n",
    "\n",
    "# Get all text\n",
    "all_text = pd.concat([df_train.Input, df_test.Input, df_val.Input])\n",
    "\n",
    "# Build vocab\n",
    "counter = Counter()\n",
    "for input in all_text:\n",
    "    counter.update(tokenizer(input))\n",
    "\n",
    "ordered_dict = OrderedDict(counter.most_common()[:VOCAB_SIZE])\n",
    "vocab = vocab(ordered_dict)\n",
    "\n",
    "# insert special tokens and set default index to 'unknown'\n",
    "vocab.insert_token('<PAD>', 0)\n",
    "vocab.insert_token('<UNK>', 1)\n",
    "vocab.set_default_index(1)"
   ]
  },
  {
   "cell_type": "markdown",
   "metadata": {},
   "source": [
    "# Build up train/test/val dataset"
   ]
  },
  {
   "cell_type": "code",
   "execution_count": 11,
   "metadata": {},
   "outputs": [
    {
     "data": {
      "text/plain": [
       "{'sadness': 0, 'anger': 1, 'love': 2, 'fear': 3, 'joy': 4, 'surprise': 5}"
      ]
     },
     "execution_count": 11,
     "metadata": {},
     "output_type": "execute_result"
    }
   ],
   "source": [
    "# Label encoding\n",
    "emotion_labels = df_train_upsampled.Sentiment.unique()\n",
    "label_to_ids = {}\n",
    "for id in range(len(emotion_labels)):\n",
    "    label = emotion_labels[id]\n",
    "    label_to_ids[label] = id\n",
    "label_to_ids"
   ]
  },
  {
   "cell_type": "code",
   "execution_count": 12,
   "metadata": {},
   "outputs": [],
   "source": [
    "from torch.nn.utils.rnn import pad_sequence\n",
    "import torch\n",
    "from torch.utils.data import DataLoader, Dataset\n",
    "from torchtext.data.functional import to_map_style_dataset\n",
    "\n",
    "device = torch.device(\"cuda\" if torch.cuda.is_available() else \"cpu\")\n",
    "\n",
    "def process_text(text):\n",
    "    return vocab(tokenizer(text))\n",
    "\n",
    "def collate_batch(batch):\n",
    "    label_list, text_list, lengths = [], [], []\n",
    "    for (_text, _label) in batch:\n",
    "        label_list.append(label_to_ids[_label])\n",
    "        processed_text = torch.tensor(process_text(_text), dtype=torch.int64)\n",
    "        text_list.append(processed_text)\n",
    "        lengths.append(processed_text.size(0) - 1)\n",
    "\n",
    "    # label must be in the same size as target\n",
    "    label_list = torch.tensor(label_list, dtype=torch.float)[:,None]\n",
    "\n",
    "    # Ensure all text is the same length\n",
    "    text_list = pad_sequence(text_list, batch_first=True)\n",
    "\n",
    "    # Create mask\n",
    "    lengths = torch.LongTensor(lengths)\n",
    "\n",
    "    seq_len = len(text_list[0])\n",
    "    batch_size = len(batch)\n",
    "    mask = torch.zeros(batch_size, seq_len, 1)\n",
    "\n",
    "    rows = torch.arange(0, batch_size).long()\n",
    "    mask[rows, lengths, :] = 1\n",
    "\n",
    "    return label_list.to(device), text_list.to(device), mask.to(device)\n"
   ]
  },
  {
   "cell_type": "code",
   "execution_count": 13,
   "metadata": {},
   "outputs": [],
   "source": [
    "class EmotionDataset(Dataset):\n",
    "    def __init__(self, dataframe) -> None:\n",
    "        self.dataframe = dataframe\n",
    "\n",
    "    def __len__(self) -> int:\n",
    "        return len(self.dataframe)\n",
    "\n",
    "    def __getitem__(self, index):\n",
    "        row = self.dataframe.iloc[index]\n",
    "        return row"
   ]
  },
  {
   "cell_type": "code",
   "execution_count": 14,
   "metadata": {},
   "outputs": [],
   "source": [
    "train_dataset = EmotionDataset(df_train_upsampled)\n",
    "test_dataset = EmotionDataset(df_test)\n",
    "val_dataset = EmotionDataset(df_val)\n",
    "\n",
    "train_dataloader = DataLoader(train_dataset, batch_size=128, shuffle=True, collate_fn=collate_batch)\n",
    "test_dataloader = DataLoader(test_dataset, batch_size=128, shuffle=True, collate_fn=collate_batch)\n",
    "val_dataloader = DataLoader(val_dataset, batch_size=128, shuffle=True, collate_fn=collate_batch)"
   ]
  },
  {
   "cell_type": "markdown",
   "metadata": {},
   "source": [
    "# Create embedding vectors from GloVe"
   ]
  },
  {
   "cell_type": "code",
   "execution_count": 15,
   "metadata": {},
   "outputs": [],
   "source": [
    "import torchtext as text\n",
    "\n",
    "# load glove embeddings\n",
    "vec = text.vocab.GloVe(name='6B', dim=50)\n",
    "\n",
    "# create the embedding matrix, a torch tensor in the shape (num_words+1, embedding_dim)\n",
    "word_emb = vec.get_vecs_by_tokens(vocab.get_itos())"
   ]
  },
  {
   "cell_type": "markdown",
   "metadata": {},
   "source": [
    "# Define NN"
   ]
  },
  {
   "cell_type": "code",
   "execution_count": 16,
   "metadata": {},
   "outputs": [],
   "source": [
    "import torch\n",
    "import torch.nn as nn\n",
    "import torch.nn.functional as F\n",
    "\n",
    "class BiLSTM(nn.Module):\n",
    "    def __init__(self, word_vec, embed_dim) -> None:\n",
    "        super().__init__()\n",
    "        self.embedding = nn.Embedding(*(word_vec.size())).from_pretrained(word_vec, freeze=False) # Embedding Layer\n",
    "        self.lstm = nn.LSTM(embed_dim, 200, num_layers=2, bidirectional=True, batch_first=True) # LSTM Layer\n",
    "        self.fc = nn.Linear(2 * 200, 1)\n",
    "\n",
    "    def forward(self, text, lengths):\n",
    "        embedded = self.embedding(text) # (batch_size, seq_len, emb_size)\n",
    "        lstm_out, _ = self.lstm(embedded) # (batch_size, seq_len, output_size)\n",
    "\n",
    "        batch_size, seq_len, output_size = lstm_out.size()\n",
    "        mask = lengths.expand(-1, seq_len, output_size)\n",
    "        out = lstm_out * mask\n",
    "        out = torch.sum(out, dim=1)\n",
    "        out = self.fc(out)\n",
    "        out = F.softmax(out, dim=1)\n",
    "\n",
    "        return out"
   ]
  },
  {
   "cell_type": "markdown",
   "metadata": {},
   "source": [
    "# Model training"
   ]
  },
  {
   "cell_type": "code",
   "execution_count": 17,
   "metadata": {},
   "outputs": [],
   "source": [
    "import numpy as np\n",
    "\n",
    "def plot_progress(accuracies, epochs):\n",
    "    plt.figure(figsize=(20, 5))\n",
    "    plt.plot(accuracies)\n",
    "    plt.xticks(np.arange(0, epochs))\n",
    "    plt.title('Accuracy')\n",
    "    plt.show()\n",
    "\n",
    "def train(model, trainloader, criterion, optimizer, epochs=10):\n",
    "    model.train()\n",
    "    total_acc, total_count = 0, 0\n",
    "    log_interval = 50\n",
    "    \n",
    "    accuracies = []\n",
    "    for _ in range(epochs):\n",
    "        for idx, (label, text, lengths) in enumerate(trainloader):\n",
    "            optimizer.zero_grad()\n",
    "            predicted_label = model(text, lengths)\n",
    "            loss = criterion(predicted_label, label)\n",
    "            loss.backward()\n",
    "            torch.nn.utils.clip_grad_norm_(model.parameters(), 0.1)\n",
    "            optimizer.step()\n",
    "            \n",
    "            total_acc += torch.eq(predicted_label, label).sum().item()\n",
    "            total_count += label.size(0)\n",
    "\n",
    "            if idx % log_interval == 0 and idx > 0:\n",
    "                accuracies.append(100 * total_acc / total_count)\n",
    "                total_acc, total_count = 0, 0\n",
    "        \n",
    "    plot_progress(accuracies, epochs)\n",
    "\n",
    "def evaluate(model, testloader, criterion):\n",
    "    model.eval()\n",
    "    total_acc, total_count = 0, 0\n",
    "\n",
    "    with torch.no_grad():\n",
    "        for idx, (label, text, lengths) in enumerate(testloader):\n",
    "            predicted_label = model(text, lengths)\n",
    "            loss = criterion(predicted_label, label)\n",
    "            total_acc += torch.eq(predicted_label, label).sum().item()\n",
    "            total_count += label.size(0)\n",
    "            \n",
    "    return 100 * total_acc/total_count"
   ]
  },
  {
   "cell_type": "code",
   "execution_count": 18,
   "metadata": {},
   "outputs": [
    {
     "ename": "KeyboardInterrupt",
     "evalue": "",
     "output_type": "error",
     "traceback": [
      "\u001b[0;31m---------------------------------------------------------------------------\u001b[0m",
      "\u001b[0;31mKeyboardInterrupt\u001b[0m                         Traceback (most recent call last)",
      "\u001b[0;32m<ipython-input-18-d206e468cd22>\u001b[0m in \u001b[0;36m<module>\u001b[0;34m\u001b[0m\n\u001b[1;32m      3\u001b[0m \u001b[0mcriterion\u001b[0m \u001b[0;34m=\u001b[0m \u001b[0mtorch\u001b[0m\u001b[0;34m.\u001b[0m\u001b[0mnn\u001b[0m\u001b[0;34m.\u001b[0m\u001b[0mBCELoss\u001b[0m\u001b[0;34m(\u001b[0m\u001b[0;34m)\u001b[0m\u001b[0;34m\u001b[0m\u001b[0;34m\u001b[0m\u001b[0m\n\u001b[1;32m      4\u001b[0m \u001b[0;34m\u001b[0m\u001b[0m\n\u001b[0;32m----> 5\u001b[0;31m \u001b[0mtrain\u001b[0m\u001b[0;34m(\u001b[0m\u001b[0mmodel\u001b[0m\u001b[0;34m,\u001b[0m \u001b[0mtrain_dataloader\u001b[0m\u001b[0;34m,\u001b[0m \u001b[0mcriterion\u001b[0m\u001b[0;34m,\u001b[0m \u001b[0moptimizer\u001b[0m\u001b[0;34m,\u001b[0m \u001b[0;36m30\u001b[0m\u001b[0;34m)\u001b[0m\u001b[0;34m\u001b[0m\u001b[0;34m\u001b[0m\u001b[0m\n\u001b[0m",
      "\u001b[0;32m<ipython-input-17-04bac8aef113>\u001b[0m in \u001b[0;36mtrain\u001b[0;34m(model, trainloader, criterion, optimizer, epochs)\u001b[0m\n\u001b[1;32m     19\u001b[0m             \u001b[0mpredicted_label\u001b[0m \u001b[0;34m=\u001b[0m \u001b[0mmodel\u001b[0m\u001b[0;34m(\u001b[0m\u001b[0mtext\u001b[0m\u001b[0;34m,\u001b[0m \u001b[0mlengths\u001b[0m\u001b[0;34m)\u001b[0m\u001b[0;34m\u001b[0m\u001b[0;34m\u001b[0m\u001b[0m\n\u001b[1;32m     20\u001b[0m             \u001b[0mloss\u001b[0m \u001b[0;34m=\u001b[0m \u001b[0mcriterion\u001b[0m\u001b[0;34m(\u001b[0m\u001b[0mpredicted_label\u001b[0m\u001b[0;34m,\u001b[0m \u001b[0mlabel\u001b[0m\u001b[0;34m)\u001b[0m\u001b[0;34m\u001b[0m\u001b[0;34m\u001b[0m\u001b[0m\n\u001b[0;32m---> 21\u001b[0;31m             \u001b[0mloss\u001b[0m\u001b[0;34m.\u001b[0m\u001b[0mbackward\u001b[0m\u001b[0;34m(\u001b[0m\u001b[0;34m)\u001b[0m\u001b[0;34m\u001b[0m\u001b[0;34m\u001b[0m\u001b[0m\n\u001b[0m\u001b[1;32m     22\u001b[0m             \u001b[0mtorch\u001b[0m\u001b[0;34m.\u001b[0m\u001b[0mnn\u001b[0m\u001b[0;34m.\u001b[0m\u001b[0mutils\u001b[0m\u001b[0;34m.\u001b[0m\u001b[0mclip_grad_norm_\u001b[0m\u001b[0;34m(\u001b[0m\u001b[0mmodel\u001b[0m\u001b[0;34m.\u001b[0m\u001b[0mparameters\u001b[0m\u001b[0;34m(\u001b[0m\u001b[0;34m)\u001b[0m\u001b[0;34m,\u001b[0m \u001b[0;36m0.1\u001b[0m\u001b[0;34m)\u001b[0m\u001b[0;34m\u001b[0m\u001b[0;34m\u001b[0m\u001b[0m\n\u001b[1;32m     23\u001b[0m             \u001b[0moptimizer\u001b[0m\u001b[0;34m.\u001b[0m\u001b[0mstep\u001b[0m\u001b[0;34m(\u001b[0m\u001b[0;34m)\u001b[0m\u001b[0;34m\u001b[0m\u001b[0;34m\u001b[0m\u001b[0m\n",
      "\u001b[0;32m/Library/Frameworks/Python.framework/Versions/3.9/lib/python3.9/site-packages/torch/_tensor.py\u001b[0m in \u001b[0;36mbackward\u001b[0;34m(self, gradient, retain_graph, create_graph, inputs)\u001b[0m\n\u001b[1;32m    305\u001b[0m                 \u001b[0mcreate_graph\u001b[0m\u001b[0;34m=\u001b[0m\u001b[0mcreate_graph\u001b[0m\u001b[0;34m,\u001b[0m\u001b[0;34m\u001b[0m\u001b[0;34m\u001b[0m\u001b[0m\n\u001b[1;32m    306\u001b[0m                 inputs=inputs)\n\u001b[0;32m--> 307\u001b[0;31m         \u001b[0mtorch\u001b[0m\u001b[0;34m.\u001b[0m\u001b[0mautograd\u001b[0m\u001b[0;34m.\u001b[0m\u001b[0mbackward\u001b[0m\u001b[0;34m(\u001b[0m\u001b[0mself\u001b[0m\u001b[0;34m,\u001b[0m \u001b[0mgradient\u001b[0m\u001b[0;34m,\u001b[0m \u001b[0mretain_graph\u001b[0m\u001b[0;34m,\u001b[0m \u001b[0mcreate_graph\u001b[0m\u001b[0;34m,\u001b[0m \u001b[0minputs\u001b[0m\u001b[0;34m=\u001b[0m\u001b[0minputs\u001b[0m\u001b[0;34m)\u001b[0m\u001b[0;34m\u001b[0m\u001b[0;34m\u001b[0m\u001b[0m\n\u001b[0m\u001b[1;32m    308\u001b[0m \u001b[0;34m\u001b[0m\u001b[0m\n\u001b[1;32m    309\u001b[0m     \u001b[0;32mdef\u001b[0m \u001b[0mregister_hook\u001b[0m\u001b[0;34m(\u001b[0m\u001b[0mself\u001b[0m\u001b[0;34m,\u001b[0m \u001b[0mhook\u001b[0m\u001b[0;34m)\u001b[0m\u001b[0;34m:\u001b[0m\u001b[0;34m\u001b[0m\u001b[0;34m\u001b[0m\u001b[0m\n",
      "\u001b[0;32m/Library/Frameworks/Python.framework/Versions/3.9/lib/python3.9/site-packages/torch/autograd/__init__.py\u001b[0m in \u001b[0;36mbackward\u001b[0;34m(tensors, grad_tensors, retain_graph, create_graph, grad_variables, inputs)\u001b[0m\n\u001b[1;32m    152\u001b[0m         \u001b[0mretain_graph\u001b[0m \u001b[0;34m=\u001b[0m \u001b[0mcreate_graph\u001b[0m\u001b[0;34m\u001b[0m\u001b[0;34m\u001b[0m\u001b[0m\n\u001b[1;32m    153\u001b[0m \u001b[0;34m\u001b[0m\u001b[0m\n\u001b[0;32m--> 154\u001b[0;31m     Variable._execution_engine.run_backward(\n\u001b[0m\u001b[1;32m    155\u001b[0m         \u001b[0mtensors\u001b[0m\u001b[0;34m,\u001b[0m \u001b[0mgrad_tensors_\u001b[0m\u001b[0;34m,\u001b[0m \u001b[0mretain_graph\u001b[0m\u001b[0;34m,\u001b[0m \u001b[0mcreate_graph\u001b[0m\u001b[0;34m,\u001b[0m \u001b[0minputs\u001b[0m\u001b[0;34m,\u001b[0m\u001b[0;34m\u001b[0m\u001b[0;34m\u001b[0m\u001b[0m\n\u001b[1;32m    156\u001b[0m         allow_unreachable=True, accumulate_grad=True)  # allow_unreachable flag\n",
      "\u001b[0;31mKeyboardInterrupt\u001b[0m: "
     ]
    }
   ],
   "source": [
    "model = BiLSTM(word_vec=word_emb, embed_dim=EMBEDDING_DIM).to(device)\n",
    "optimizer = torch.optim.SGD(model.parameters(), lr=0.001)\n",
    "criterion = torch.nn.BCELoss()\n",
    "\n",
    "train(model, train_dataloader, criterion, optimizer, 30)"
   ]
  },
  {
   "cell_type": "code",
   "execution_count": null,
   "metadata": {},
   "outputs": [
    {
     "name": "stdout",
     "output_type": "stream",
     "text": [
      "test accuracy    13.75%\n"
     ]
    }
   ],
   "source": [
    "accu_test = evaluate(model, test_dataloader, criterion)\n",
    "print('test accuracy {:8.2f}%'.format(accu_test))"
   ]
  },
  {
   "cell_type": "code",
   "execution_count": null,
   "metadata": {},
   "outputs": [],
   "source": []
  }
 ],
 "metadata": {
  "interpreter": {
   "hash": "7812ea015bdcee6f23a998adcdd2ef97c151c0c241b7b7070987d9313e41299d"
  },
  "kernelspec": {
   "display_name": "Python 3.9.1 64-bit",
   "language": "python",
   "name": "python3"
  },
  "language_info": {
   "codemirror_mode": {
    "name": "ipython",
    "version": 3
   },
   "file_extension": ".py",
   "mimetype": "text/x-python",
   "name": "python",
   "nbconvert_exporter": "python",
   "pygments_lexer": "ipython3",
   "version": "3.9.1"
  },
  "orig_nbformat": 4
 },
 "nbformat": 4,
 "nbformat_minor": 2
}
